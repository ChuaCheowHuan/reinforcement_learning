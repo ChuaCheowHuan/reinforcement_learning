{
  "nbformat": 4,
  "nbformat_minor": 0,
  "metadata": {
    "colab": {
      "name": "DPPO_cont_GAE_dist_GPU.ipynb",
      "provenance": [],
      "collapsed_sections": []
    },
    "kernelspec": {
      "name": "python3",
      "display_name": "Python 3"
    },
    "accelerator": "GPU"
  },
  "cells": [
    {
      "cell_type": "markdown",
      "metadata": {
        "id": "avhpCbbd3563",
        "colab_type": "text"
      },
      "source": [
        "Distributed Proximal Policy Optimization (Distributed PPO or DPPO)  implementation with distributed Tensorflow and Python’s multiprocessing \n",
        "package. This implementation uses normalized running rewards with GAE. The code \n",
        "is tested with Gym’s Pendulum-v0 (continuous action space) on Colab."
      ]
    },
    {
      "cell_type": "markdown",
      "metadata": {
        "id": "DyShhxiM3_3L",
        "colab_type": "text"
      },
      "source": [
        "#Use tensorflow version 1.15.2"
      ]
    },
    {
      "cell_type": "code",
      "metadata": {
        "id": "udIdxLu04DxQ",
        "colab_type": "code",
        "colab": {
          "base_uri": "https://localhost:8080/",
          "height": 374
        },
        "outputId": "fd86c702-1d68-443c-c8f2-d22c7e915d26"
      },
      "source": [
        "!pip install tensorflow==1.15.2"
      ],
      "execution_count": 1,
      "outputs": [
        {
          "output_type": "stream",
          "text": [
            "Requirement already satisfied: tensorflow==1.15.2 in /usr/local/lib/python3.6/dist-packages (1.15.2)\n",
            "Requirement already satisfied: grpcio>=1.8.6 in /usr/local/lib/python3.6/dist-packages (from tensorflow==1.15.2) (1.28.1)\n",
            "Requirement already satisfied: google-pasta>=0.1.6 in /usr/local/lib/python3.6/dist-packages (from tensorflow==1.15.2) (0.2.0)\n",
            "Requirement already satisfied: keras-preprocessing>=1.0.5 in /usr/local/lib/python3.6/dist-packages (from tensorflow==1.15.2) (1.1.0)\n",
            "Requirement already satisfied: numpy<2.0,>=1.16.0 in /usr/local/lib/python3.6/dist-packages (from tensorflow==1.15.2) (1.18.3)\n",
            "Requirement already satisfied: tensorboard<1.16.0,>=1.15.0 in /usr/local/lib/python3.6/dist-packages (from tensorflow==1.15.2) (1.15.0)\n",
            "Requirement already satisfied: opt-einsum>=2.3.2 in /usr/local/lib/python3.6/dist-packages (from tensorflow==1.15.2) (3.2.1)\n",
            "Requirement already satisfied: wrapt>=1.11.1 in /usr/local/lib/python3.6/dist-packages (from tensorflow==1.15.2) (1.12.1)\n",
            "Requirement already satisfied: astor>=0.6.0 in /usr/local/lib/python3.6/dist-packages (from tensorflow==1.15.2) (0.8.1)\n",
            "Requirement already satisfied: wheel>=0.26; python_version >= \"3\" in /usr/local/lib/python3.6/dist-packages (from tensorflow==1.15.2) (0.34.2)\n",
            "Requirement already satisfied: six>=1.10.0 in /usr/local/lib/python3.6/dist-packages (from tensorflow==1.15.2) (1.12.0)\n",
            "Requirement already satisfied: protobuf>=3.6.1 in /usr/local/lib/python3.6/dist-packages (from tensorflow==1.15.2) (3.10.0)\n",
            "Requirement already satisfied: gast==0.2.2 in /usr/local/lib/python3.6/dist-packages (from tensorflow==1.15.2) (0.2.2)\n",
            "Requirement already satisfied: keras-applications>=1.0.8 in /usr/local/lib/python3.6/dist-packages (from tensorflow==1.15.2) (1.0.8)\n",
            "Requirement already satisfied: termcolor>=1.1.0 in /usr/local/lib/python3.6/dist-packages (from tensorflow==1.15.2) (1.1.0)\n",
            "Requirement already satisfied: absl-py>=0.7.0 in /usr/local/lib/python3.6/dist-packages (from tensorflow==1.15.2) (0.9.0)\n",
            "Requirement already satisfied: tensorflow-estimator==1.15.1 in /usr/local/lib/python3.6/dist-packages (from tensorflow==1.15.2) (1.15.1)\n",
            "Requirement already satisfied: markdown>=2.6.8 in /usr/local/lib/python3.6/dist-packages (from tensorboard<1.16.0,>=1.15.0->tensorflow==1.15.2) (3.2.1)\n",
            "Requirement already satisfied: werkzeug>=0.11.15 in /usr/local/lib/python3.6/dist-packages (from tensorboard<1.16.0,>=1.15.0->tensorflow==1.15.2) (1.0.1)\n",
            "Requirement already satisfied: setuptools>=41.0.0 in /usr/local/lib/python3.6/dist-packages (from tensorboard<1.16.0,>=1.15.0->tensorflow==1.15.2) (46.1.3)\n",
            "Requirement already satisfied: h5py in /usr/local/lib/python3.6/dist-packages (from keras-applications>=1.0.8->tensorflow==1.15.2) (2.10.0)\n"
          ],
          "name": "stdout"
        }
      ]
    },
    {
      "cell_type": "markdown",
      "metadata": {
        "id": "S-fqmZuy3-jW",
        "colab_type": "text"
      },
      "source": [
        "#Imports"
      ]
    },
    {
      "cell_type": "code",
      "metadata": {
        "id": "93E4LcmdiYsV",
        "colab_type": "code",
        "colab": {}
      },
      "source": [
        "from __future__ import absolute_import, division, print_function, unicode_literals\n",
        "#!pip install -q tf-nightly\n",
        "\n",
        "import gym\n",
        "import numpy as np\n",
        "import matplotlib.pyplot as plt\n",
        "import tensorflow as tf\n",
        "tf.reset_default_graph()\n",
        "\n",
        "import time\n",
        "from multiprocessing import Process"
      ],
      "execution_count": 0,
      "outputs": []
    },
    {
      "cell_type": "markdown",
      "metadata": {
        "id": "53XNjXLH4ZEP",
        "colab_type": "text"
      },
      "source": [
        "#Computes running stats"
      ]
    },
    {
      "cell_type": "code",
      "metadata": {
        "id": "ZFfwwCjNibWV",
        "colab_type": "code",
        "colab": {}
      },
      "source": [
        "# The following class is adapted from OpenAI's baseline:\n",
        "# https://github.com/openai/baselines/blob/master/baselines/common/running_mean_std.py\n",
        "# https://en.wikipedia.org/wiki/Algorithms_for_calculating_variance#Parallel_algorithm\n",
        "# This class is used for the normalization of rewards in this program before GAE computation.\n",
        "class RunningStats(object):\n",
        "    def __init__(self, epsilon=1e-4, shape=()):\n",
        "        self.mean = np.zeros(shape, 'float64')\n",
        "        self.var = np.ones(shape, 'float64')\n",
        "        self.std = np.ones(shape, 'float64')\n",
        "        self.count = epsilon\n",
        "\n",
        "    def update(self, x):\n",
        "        batch_mean = np.mean(x, axis=0)\n",
        "        batch_var = np.var(x, axis=0)\n",
        "        batch_count = x.shape[0]\n",
        "        self.update_from_moments(batch_mean, batch_var, batch_count)\n",
        "\n",
        "    def update_from_moments(self, batch_mean, batch_var, batch_count):\n",
        "        delta = batch_mean - self.mean\n",
        "        new_mean = self.mean + delta * batch_count / (self.count + batch_count)\n",
        "        m_a = self.var * self.count\n",
        "        m_b = batch_var * batch_count\n",
        "        M2 = m_a + m_b + np.square(delta) * self.count * batch_count / (self.count + batch_count)\n",
        "        new_var = M2 / (self.count + batch_count)\n",
        "\n",
        "        self.mean = new_mean\n",
        "        self.var = new_var\n",
        "        self.std = np.maximum(np.sqrt(self.var), 1e-6)\n",
        "        self.count = batch_count + self.count"
      ],
      "execution_count": 0,
      "outputs": []
    },
    {
      "cell_type": "markdown",
      "metadata": {
        "id": "9C5g2it34dS_",
        "colab_type": "text"
      },
      "source": [
        "#PPO tensorflow graph"
      ]
    },
    {
      "cell_type": "code",
      "metadata": {
        "id": "cNuMXS_T2QkB",
        "colab_type": "code",
        "colab": {}
      },
      "source": [
        "class PPO(object):    \n",
        "    def __init__(self, scope, sess, env, global_PPO=None):    \n",
        "        self.sess = sess\n",
        "        self.env = env\n",
        "        #OPT_A = tf.train.AdamOptimizer(A_LR, beta1=0.99, beta2=0.999, name='OPT_A')\n",
        "        #OPT_C = tf.train.AdamOptimizer(C_LR, beta1=0.99, beta2=0.999, name='OPT_C')          \n",
        "        OPT_A = tf.train.AdamOptimizer(A_LR, name='OPT_A')\n",
        "        OPT_C = tf.train.AdamOptimizer(C_LR, name='OPT_C')          \n",
        "        \n",
        "        with tf.variable_scope(scope): # scope is either global or wid\n",
        "            self.state = tf.placeholder(tf.float32, [None, S_DIM], 'state')\n",
        "\n",
        "            # critic\n",
        "            with tf.variable_scope('critic'):\n",
        "                h1 = tf.layers.dense(self.state, hidden, tf.nn.relu, name='hidden', trainable=True)\n",
        "                self.val = tf.layers.dense(h1, 1, name='val', trainable=True)                \n",
        "                self.critic_params = tf.get_collection(tf.GraphKeys.TRAINABLE_VARIABLES, scope=scope + '/critic')\n",
        "                self.discounted_r = tf.placeholder(tf.float32, [None, 1], 'discounted_r')\n",
        "                self.advantage = self.discounted_r - self.val\n",
        "                self.closs = tf.reduce_mean(tf.square(self.advantage))\n",
        "                self.ctrain_op = OPT_C.minimize(self.closs)\n",
        "            with tf.variable_scope('cgrads'):\n",
        "                self.critic_grad_op = tf.gradients(self.closs, self.critic_params)\n",
        "\n",
        "            # actor\n",
        "            self.pi, self.pi_params = self._build_anet(scope, 'pi', self.env, trainable=True)\n",
        "            self.oldpi, self.oldpi_params = self._build_anet(scope, 'oldpi', self.env, trainable=True)  # originally trainable=False\n",
        "            with tf.variable_scope('sample_action'):\n",
        "                self.sample_op = tf.squeeze(self.pi.sample(1), axis=0) # choosing action\n",
        "            with tf.variable_scope('update_oldpi'):\n",
        "                self.update_oldpi_op = [oldp.assign(p) for p, oldp in zip(self.pi_params, self.oldpi_params)]\n",
        "            self.act = tf.placeholder(tf.float32, [None, A_DIM], 'action')\n",
        "            self.adv = tf.placeholder(tf.float32, [None, 1], 'advantage')\n",
        "            with tf.variable_scope('loss'):\n",
        "                with tf.variable_scope('surrogate'):\n",
        "                    ratio = self.pi.prob(self.act) / self.oldpi.prob(self.act)\n",
        "                    surr = ratio * self.adv\n",
        "                    self.aloss = -tf.reduce_mean(tf.minimum(surr, tf.clip_by_value(ratio, 1.-epsilon, 1.+epsilon)*self.adv))\n",
        "            with tf.variable_scope('atrain'):\n",
        "                self.atrain_op = OPT_A.minimize(self.aloss)\n",
        "            with tf.variable_scope('agrads'):\n",
        "                self.pi_grad_op = tf.gradients(self.aloss, self.pi_params)\n",
        "                \n",
        "            if scope != net_scope: # not global    \n",
        "                with tf.name_scope('params'): # push/pull from local/worker perspective\n",
        "                    with tf.name_scope('push_to_global'):\n",
        "                        self.push_actor_pi_params = OPT_A.apply_gradients(zip(self.pi_grad_op, global_PPO.pi_params))\n",
        "                        self.push_critic_params = OPT_C.apply_gradients(zip(self.critic_grad_op, global_PPO.critic_params))\n",
        "                    with tf.name_scope('pull_fr_global'):\n",
        "                        self.pull_actor_pi_params = [local_params.assign(global_params) for local_params, global_params in zip(self.pi_params, global_PPO.pi_params)]\n",
        "                        self.pull_critic_params = [local_params.assign(global_params) for local_params, global_params in zip(self.critic_params, global_PPO.critic_params)]                    \n",
        "                \n",
        "    def update(self, s, a, r, adv):\n",
        "        self.sess.run(self.update_oldpi_op)\n",
        "\n",
        "        for _ in range(A_EPOCH): # train actor\n",
        "            self.sess.run(self.atrain_op, {self.state: s, self.act: a, self.adv: adv})\n",
        "            # update actor\n",
        "            self.sess.run([self.push_actor_pi_params, \n",
        "                           self.pull_actor_pi_params], \n",
        "                          {self.state: s, self.act: a, self.adv: adv})\n",
        "        for _ in range(C_EPOCH): # train critic\n",
        "            # update critic\n",
        "            self.sess.run(self.ctrain_op, {self.state: s, self.discounted_r: r})\n",
        "            self.sess.run([self.push_critic_params, \n",
        "                           self.pull_critic_params], \n",
        "                          {self.state: s, self.discounted_r: r})        \n",
        "\n",
        "    def _build_anet(self, scope, name, env, trainable):\n",
        "        with tf.variable_scope(name):\n",
        "            h1 = tf.layers.dense(self.state, hidden, tf.nn.relu, name='hidden', trainable=trainable)\n",
        "            mu = self.env.action_space.high * tf.layers.dense(h1, A_DIM, tf.nn.tanh, name='mu', trainable=trainable)\n",
        "            sigma = tf.layers.dense(h1, A_DIM, tf.nn.softplus, name='sigma', trainable=trainable)\n",
        "            norm_dist = tf.distributions.Normal(loc=mu, scale=sigma)\n",
        "        params = tf.get_collection(tf.GraphKeys.TRAINABLE_VARIABLES, scope=scope + '/' + name)\n",
        "        return norm_dist, params\n",
        "\n",
        "    def choose_action(self, s):\n",
        "        s = s[None, :]\n",
        "        a = self.sess.run(self.sample_op, {self.state: s})[0]\n",
        "        return np.clip(a, self.env.action_space.low, self.env.action_space.high)\n",
        "\n",
        "    def get_val(self, s):\n",
        "        if s.ndim < 2: s = s[None, :]\n",
        "        return self.sess.run(self.val, {self.state: s})[0, 0]\n",
        "      \n",
        "    # This function is adapted from OpenAI's Baseline\n",
        "    # GAE computation\n",
        "    # returns TD lamda return & advantage\n",
        "    def add_vtarg_and_adv(self, R, done, V, v_s_, gamma, lam):\n",
        "        # Compute target value using TD(lambda) estimator, and advantage with GAE(lambda)\n",
        "        # last element is only used for last vtarg, but we already zeroed it if last new = 1\n",
        "        done = np.append(done, 0)\n",
        "        V_plus = np.append(V, v_s_)\n",
        "        T = len(R)\n",
        "        adv = gaelam = np.empty(T, 'float32')\n",
        "        lastgaelam = 0\n",
        "        for t in reversed(range(T)):\n",
        "            nonterminal = 1-done[t+1]        \n",
        "            delta = R[t] + gamma * V_plus[t+1] * nonterminal - V_plus[t]\n",
        "            gaelam[t] = lastgaelam = delta + gamma * lam * nonterminal * lastgaelam   \n",
        "        #print(\"adv=\", adv.shape)\n",
        "        #print(\"V=\", V.shape)\n",
        "        #print(\"V_plus=\", V_plus.shape)\n",
        "        tdlamret = np.vstack(adv) + V\n",
        "        #print(\"tdlamret=\", tdlamret.shape)\n",
        "        return tdlamret, adv # tdlamret is critic_target or Qs             "
      ],
      "execution_count": 0,
      "outputs": []
    },
    {
      "cell_type": "markdown",
      "metadata": {
        "id": "-ImZ0y974hwf",
        "colab_type": "text"
      },
      "source": [
        "#The worker class"
      ]
    },
    {
      "cell_type": "code",
      "metadata": {
        "id": "MxjjcOq-ih4d",
        "colab_type": "code",
        "colab": {}
      },
      "source": [
        "class Worker(object):\n",
        "    def __init__(self, wid, GLOBAL_PPO, GLOBAL_EP, GLOBAL_RUNNING_R, sess):\n",
        "        self.wid = wid\n",
        "        self.env = gym.make(GAME).unwrapped\n",
        "        self.g_ppo = GLOBAL_PPO\n",
        "        self.ppo = PPO(wid, sess, self.env, GLOBAL_PPO)\n",
        "        self.running_stats_r = RunningStats()\n",
        "        self.sess = sess\n",
        "        self.GLOBAL_EP = GLOBAL_EP\n",
        "        self.GLOBAL_RUNNING_R = GLOBAL_RUNNING_R        \n",
        "\n",
        "    def work(self):\n",
        "        T = 0\n",
        "        t = 0\n",
        "        SESS = self.sess\n",
        "        GLOBAL_EP = self.GLOBAL_EP\n",
        "        GLOBAL_RUNNING_R = self.GLOBAL_RUNNING_R\n",
        "        \n",
        "        while SESS.run(GLOBAL_EP) < EP_MAX:\n",
        "            s = self.env.reset()\n",
        "            buffer_s, buffer_a, buffer_r, buffer_done, buffer_V = [], [], [], [], []\n",
        "            ep_r = 0\n",
        "            for t in range(EP_LEN):    \n",
        "                a = self.ppo.choose_action(s)\n",
        "                s_, r, done, _ = self.env.step(a)\n",
        "                buffer_s.append(s)\n",
        "                buffer_a.append(a)\n",
        "                buffer_r.append(r)    \n",
        "                buffer_done.append(done)  \n",
        "        \n",
        "                v = self.ppo.get_val(s)\n",
        "                buffer_V.append(v)  \n",
        "        \n",
        "                s = s_\n",
        "                ep_r += r\n",
        "\n",
        "                # update ppo\n",
        "                if (t+1) % BATCH == 0 or t == EP_LEN-1:\n",
        "            \n",
        "                    self.running_stats_r.update(np.array(buffer_r))\n",
        "                    buffer_r = np.clip( (np.array(buffer_r) - self.running_stats_r.mean) / self.running_stats_r.std, -stats_CLIP, stats_CLIP )\n",
        "            \n",
        "                    v_s_ = self.ppo.get_val(s_)                     \n",
        "            \n",
        "                    tdlamret, adv = self.ppo.add_vtarg_and_adv(np.vstack(buffer_r), np.vstack(buffer_done), np.vstack(buffer_V), v_s_, GAMMA, lamda)\n",
        "                        \n",
        "                    bs, ba, br, b_adv = np.vstack(buffer_s), np.vstack(buffer_a), tdlamret, np.vstack(adv)\n",
        "                    buffer_s, buffer_a, buffer_r, buffer_done, buffer_V = [], [], [], [], []\n",
        "            \n",
        "                    self.ppo.update(bs, ba, br, b_adv)            \n",
        "            \n",
        "            SESS.run(GLOBAL_EP.assign_add(1.0))                        \n",
        "            qe = GLOBAL_RUNNING_R.enqueue(ep_r)\n",
        "            SESS.run(qe) "
      ],
      "execution_count": 0,
      "outputs": []
    },
    {
      "cell_type": "markdown",
      "metadata": {
        "id": "blnJIJAE4ks4",
        "colab_type": "text"
      },
      "source": [
        "#Global variables & hyperparameters"
      ]
    },
    {
      "cell_type": "code",
      "metadata": {
        "id": "Abb2EkuxizIZ",
        "colab_type": "code",
        "colab": {
          "base_uri": "https://localhost:8080/",
          "height": 51
        },
        "outputId": "2022dfca-c4e8-475e-dd1d-b0ed09b92846"
      },
      "source": [
        "GAME = 'Pendulum-v0'\n",
        "env = gym.make(GAME).unwrapped\n",
        "net_scope = 'global'\n",
        "\n",
        "EP_MAX = 500 #500 # max number of episodes\n",
        "EP_LEN = 200 # episode length\n",
        "GAMMA = 0.9\n",
        "\n",
        "lamda = 0.95 #0.95\n",
        "\n",
        "hidden = 50 #100\n",
        "\n",
        "A_LR = 0.0001 # actor's learning rate\n",
        "C_LR = 0.0002 # critic's learning rate\n",
        "BATCH = 32 # minibatch size\n",
        "A_EPOCH = 10 # number of epoch\n",
        "C_EPOCH = 10 # number of epoch\n",
        "S_DIM, A_DIM = 3, 1 # state, action dimension\n",
        "stats_CLIP = 10 # upper bound of RunningStats\n",
        "epsilon=0.2"
      ],
      "execution_count": 6,
      "outputs": [
        {
          "output_type": "stream",
          "text": [
            "/usr/local/lib/python3.6/dist-packages/gym/logger.py:30: UserWarning: \u001b[33mWARN: Box bound precision lowered by casting to float32\u001b[0m\n",
            "  warnings.warn(colorize('%s: %s'%('WARN', msg % args), 'yellow'))\n"
          ],
          "name": "stderr"
        }
      ]
    },
    {
      "cell_type": "markdown",
      "metadata": {
        "id": "vpNtcG8S4r8i",
        "colab_type": "text"
      },
      "source": [
        "#Setup cluster"
      ]
    },
    {
      "cell_type": "code",
      "metadata": {
        "id": "SRWC1gf2jlFQ",
        "colab_type": "code",
        "colab": {}
      },
      "source": [
        "cluster = tf.train.ClusterSpec({\n",
        "    \"worker\": [\"localhost:3331\",\n",
        "               \"localhost:3332\",\n",
        "               \"localhost:3333\",\n",
        "               \"localhost:3334\"\n",
        "              ],\n",
        "    \"ps\": [\"localhost:3330\"]\n",
        "})\n",
        "\n",
        "def parameter_server():\n",
        "    #tf.reset_default_graph()\n",
        "    \n",
        "    server = tf.train.Server(cluster,\n",
        "                             job_name=\"ps\",\n",
        "                             task_index=0)\n",
        "    sess = tf.Session(target=server.target)        \n",
        "    \n",
        "    with tf.device(\"/job:ps/task:0\"):\n",
        "        GLOBAL_PPO = PPO(net_scope, sess, env, global_PPO=None) # only need its params\n",
        "        GLOBAL_EP = tf.Variable(0.0, name='GLOBAL_EP') # num of global episodes   \n",
        "        # a queue of ep_r\n",
        "        GLOBAL_RUNNING_R = tf.FIFOQueue(EP_MAX, tf.float32, shared_name=\"GLOBAL_RUNNING_R\")        \n",
        "    \n",
        "    print(\"Parameter server: waiting for cluster connection...\")\n",
        "    sess.run(tf.report_uninitialized_variables())\n",
        "    print(\"Parameter server: cluster ready!\")\n",
        "    \n",
        "    print(\"Parameter server: initializing variables...\")\n",
        "    sess.run(tf.global_variables_initializer())\n",
        "    print(\"Parameter server: variables initialized\")\n",
        "    \n",
        "    while True:\n",
        "        time.sleep(1.0)\n",
        "        if sess.run(GLOBAL_RUNNING_R.size()) >= EP_MAX: # GLOBAL_EP starts from 0, hence +1 to max_global_episodes          \n",
        "            time.sleep(10.0)\n",
        "            GLOBAL_RUNNING_R_list = []\n",
        "            ep_r_prev = 0.0\n",
        "            for i in range(sess.run(GLOBAL_RUNNING_R.size())):\n",
        "                ep_r = sess.run(GLOBAL_RUNNING_R.dequeue())                   \n",
        "                if i==0:\n",
        "                    GLOBAL_RUNNING_R_list.append(ep_r) # for display\n",
        "                else:\n",
        "                    GLOBAL_RUNNING_R_list.append(GLOBAL_RUNNING_R_list[-1]*0.9 + ep_r*0.1) # for display         \n",
        "            break  \n",
        "              \n",
        "    # display\n",
        "    plt.plot(np.arange(len(GLOBAL_RUNNING_R_list)), GLOBAL_RUNNING_R_list)\n",
        "    plt.xlabel('episode')\n",
        "    plt.ylabel('reward')\n",
        "    plt.show()  \n",
        "\n",
        "    #print(\"Parameter server: blocking...\")\n",
        "    #server.join() # currently blocks forever    \n",
        "    print(\"Parameter server: ended...\")\n",
        "\n",
        "def worker(worker_n): \n",
        "    #tf.reset_default_graph()\n",
        "    \n",
        "    server = tf.train.Server(cluster,\n",
        "                             job_name=\"worker\",\n",
        "                             task_index=worker_n)\n",
        "    sess = tf.Session(target=server.target)  \n",
        "  \n",
        "    with tf.device(\"/job:ps/task:0\"):\n",
        "        GLOBAL_PPO = PPO(net_scope, sess, env, global_PPO=None) # only need its params\n",
        "        GLOBAL_EP = tf.Variable(0.0, name='GLOBAL_EP') # num of global episodes\n",
        "        # a queue of ep_r\n",
        "        GLOBAL_RUNNING_R = tf.FIFOQueue(EP_MAX, tf.float32, shared_name=\"GLOBAL_RUNNING_R\")   \n",
        "    \"\"\"\n",
        "    with tf.device(tf.train.replica_device_setter(\n",
        "                        worker_device='/job:worker/task:' + str(worker_n),\n",
        "                        cluster=cluster)):\n",
        "    \"\"\"                        \n",
        "    print(\"Worker %d: waiting for cluster connection...\" % worker_n)\n",
        "    sess.run(tf.report_uninitialized_variables())\n",
        "    print(\"Worker %d: cluster ready!\" % worker_n)\n",
        "    \n",
        "    #while sess.run(tf.report_uninitialized_variables()):\n",
        "    while (sess.run(tf.report_uninitialized_variables())).any(): # ********** .any() .all() **********\n",
        "        print(\"Worker %d: waiting for variable initialization...\" % worker_n)\n",
        "        time.sleep(1.0)\n",
        "    print(\"Worker %d: variables initialized\" % worker_n)\n",
        "    \n",
        "    w = Worker(str(worker_n), GLOBAL_PPO, GLOBAL_EP, GLOBAL_RUNNING_R, sess) \n",
        "    print(\"Worker %d: created\" % worker_n)\n",
        "    \n",
        "    sess.run(tf.global_variables_initializer()) # got to initialize after Worker creation\n",
        "    w.work()\n",
        "    print(\"Worker %d: w.work()\" % worker_n)\n",
        "          \n",
        "    #print(\"Worker %d: blocking...\" % worker_n)\n",
        "    server.join() # currently blocks forever\n",
        "    print(\"Worker %d: ended...\" % worker_n)"
      ],
      "execution_count": 0,
      "outputs": []
    },
    {
      "cell_type": "markdown",
      "metadata": {
        "id": "IEio_lxF4zSj",
        "colab_type": "text"
      },
      "source": [
        "#Setup processes, rollout & train."
      ]
    },
    {
      "cell_type": "code",
      "metadata": {
        "id": "4KSlM79h4yii",
        "colab_type": "code",
        "colab": {
          "base_uri": "https://localhost:8080/",
          "height": 1000
        },
        "outputId": "33b7f0ba-83bc-4cf7-a211-b73da961023e"
      },
      "source": [
        "start_time = time.time()\n",
        "\n",
        "ps_proc = Process(target=parameter_server, daemon=True)\n",
        "w1_proc = Process(target=worker, args=(0, ), daemon=True)\n",
        "w2_proc = Process(target=worker, args=(1, ), daemon=True)\n",
        "w3_proc = Process(target=worker, args=(2, ), daemon=True)\n",
        "w4_proc = Process(target=worker, args=(3, ), daemon=True)\n",
        "\n",
        "ps_proc.start()\n",
        "w1_proc.start()\n",
        "w2_proc.start()\n",
        "w3_proc.start()\n",
        "w4_proc.start() \n",
        "\n",
        "# if not join, parent will terminate before children \n",
        "# & children will terminate as well cuz children are daemon\n",
        "ps_proc.join() \n",
        "#w1_proc.join()\n",
        "#w2_proc.join() \n",
        "#w3_proc.join() \n",
        "#w4_proc.join() \n",
        "\n",
        "for proc in [w1_proc, \n",
        "             w2_proc, \n",
        "             w3_proc, \n",
        "             w4_proc, \n",
        "             ps_proc]:\n",
        "    proc.terminate() # only way to kill server is to kill it's process\n",
        "        \n",
        "print('All done.')     \n",
        "\n",
        "print(\"--- %s seconds ---\" % (time.time() - start_time))    "
      ],
      "execution_count": 8,
      "outputs": [
        {
          "output_type": "stream",
          "text": [
            "WARNING:tensorflow:From <ipython-input-4-721e1883fe74>:15: dense (from tensorflow.python.layers.core) is deprecated and will be removed in a future version.\n",
            "Instructions for updating:\n",
            "Use keras.layers.Dense instead.\n",
            "WARNING:tensorflow:From <ipython-input-4-721e1883fe74>:15: dense (from tensorflow.python.layers.core) is deprecated and will be removed in a future version.\n",
            "Instructions for updating:\n",
            "Use keras.layers.Dense instead.WARNING:tensorflow:From /usr/local/lib/python3.6/dist-packages/tensorflow_core/python/layers/core.py:187: Layer.apply (from tensorflow.python.keras.engine.base_layer) is deprecated and will be removed in a future version.\n",
            "Instructions for updating:\n",
            "Please use `layer.__call__` method instead.\n",
            "\n",
            "WARNING:tensorflow:From <ipython-input-4-721e1883fe74>:15: dense (from tensorflow.python.layers.core) is deprecated and will be removed in a future version.\n",
            "Instructions for updating:\n",
            "Use keras.layers.Dense instead.\n",
            "WARNING:tensorflow:From /usr/local/lib/python3.6/dist-packages/tensorflow_core/python/layers/core.py:187: Layer.apply (from tensorflow.python.keras.engine.base_layer) is deprecated and will be removed in a future version.\n",
            "Instructions for updating:\n",
            "Please use `layer.__call__` method instead.\n",
            "WARNING:tensorflow:From /usr/local/lib/python3.6/dist-packages/tensorflow_core/python/layers/core.py:187: Layer.apply (from tensorflow.python.keras.engine.base_layer) is deprecated and will be removed in a future version.\n",
            "Instructions for updating:\n",
            "Please use `layer.__call__` method instead.WARNING:tensorflow:From <ipython-input-4-721e1883fe74>:15: dense (from tensorflow.python.layers.core) is deprecated and will be removed in a future version.\n",
            "Instructions for updating:\n",
            "Use keras.layers.Dense instead.\n",
            "\n",
            "WARNING:tensorflow:From <ipython-input-4-721e1883fe74>:15: dense (from tensorflow.python.layers.core) is deprecated and will be removed in a future version.\n",
            "Instructions for updating:\n",
            "Use keras.layers.Dense instead.WARNING:tensorflow:From /usr/local/lib/python3.6/dist-packages/tensorflow_core/python/layers/core.py:187: Layer.apply (from tensorflow.python.keras.engine.base_layer) is deprecated and will be removed in a future version.\n",
            "Instructions for updating:\n",
            "Please use `layer.__call__` method instead.\n",
            "\n",
            "WARNING:tensorflow:From /usr/local/lib/python3.6/dist-packages/tensorflow_core/python/layers/core.py:187: Layer.apply (from tensorflow.python.keras.engine.base_layer) is deprecated and will be removed in a future version.\n",
            "Instructions for updating:\n",
            "Please use `layer.__call__` method instead.\n",
            "WARNING:tensorflow:From <ipython-input-4-721e1883fe74>:74: Normal.__init__ (from tensorflow.python.ops.distributions.normal) is deprecated and will be removed after 2019-01-01.\n",
            "Instructions for updating:\n",
            "The TensorFlow Distributions library has moved to TensorFlow Probability (https://github.com/tensorflow/probability). You should update all references to use `tfp.distributions` instead of `tf.distributions`.\n",
            "WARNING:tensorflow:From /usr/local/lib/python3.6/dist-packages/tensorflow_core/python/ops/distributions/normal.py:160: Distribution.__init__ (from tensorflow.python.ops.distributions.distribution) is deprecated and will be removed after 2019-01-01.\n",
            "Instructions for updating:\n",
            "The TensorFlow Distributions library has moved to TensorFlow Probability (https://github.com/tensorflow/probability). You should update all references to use `tfp.distributions` instead of `tf.distributions`.\n",
            "WARNING:tensorflow:From <ipython-input-4-721e1883fe74>:74: Normal.__init__ (from tensorflow.python.ops.distributions.normal) is deprecated and will be removed after 2019-01-01.\n",
            "Instructions for updating:\n",
            "The TensorFlow Distributions library has moved to TensorFlow Probability (https://github.com/tensorflow/probability). You should update all references to use `tfp.distributions` instead of `tf.distributions`.\n",
            "WARNING:tensorflow:From /usr/local/lib/python3.6/dist-packages/tensorflow_core/python/ops/distributions/normal.py:160: Distribution.__init__ (from tensorflow.python.ops.distributions.distribution) is deprecated and will be removed after 2019-01-01.\n",
            "Instructions for updating:\n",
            "The TensorFlow Distributions library has moved to TensorFlow Probability (https://github.com/tensorflow/probability). You should update all references to use `tfp.distributions` instead of `tf.distributions`.\n",
            "WARNING:tensorflow:From <ipython-input-4-721e1883fe74>:74: Normal.__init__ (from tensorflow.python.ops.distributions.normal) is deprecated and will be removed after 2019-01-01.\n",
            "Instructions for updating:\n",
            "The TensorFlow Distributions library has moved to TensorFlow Probability (https://github.com/tensorflow/probability). You should update all references to use `tfp.distributions` instead of `tf.distributions`.\n",
            "WARNING:tensorflow:From <ipython-input-4-721e1883fe74>:74: Normal.__init__ (from tensorflow.python.ops.distributions.normal) is deprecated and will be removed after 2019-01-01.\n",
            "Instructions for updating:\n",
            "The TensorFlow Distributions library has moved to TensorFlow Probability (https://github.com/tensorflow/probability). You should update all references to use `tfp.distributions` instead of `tf.distributions`.WARNING:tensorflow:From /usr/local/lib/python3.6/dist-packages/tensorflow_core/python/ops/distributions/normal.py:160: Distribution.__init__ (from tensorflow.python.ops.distributions.distribution) is deprecated and will be removed after 2019-01-01.\n",
            "Instructions for updating:\n",
            "The TensorFlow Distributions library has moved to TensorFlow Probability (https://github.com/tensorflow/probability). You should update all references to use `tfp.distributions` instead of `tf.distributions`.\n",
            "WARNING:tensorflow:From /usr/local/lib/python3.6/dist-packages/tensorflow_core/python/ops/distributions/normal.py:160: Distribution.__init__ (from tensorflow.python.ops.distributions.distribution) is deprecated and will be removed after 2019-01-01.\n",
            "Instructions for updating:\n",
            "The TensorFlow Distributions library has moved to TensorFlow Probability (https://github.com/tensorflow/probability). You should update all references to use `tfp.distributions` instead of `tf.distributions`.WARNING:tensorflow:From <ipython-input-4-721e1883fe74>:74: Normal.__init__ (from tensorflow.python.ops.distributions.normal) is deprecated and will be removed after 2019-01-01.\n",
            "Instructions for updating:\n",
            "The TensorFlow Distributions library has moved to TensorFlow Probability (https://github.com/tensorflow/probability). You should update all references to use `tfp.distributions` instead of `tf.distributions`.\n",
            "\n",
            "\n",
            "WARNING:tensorflow:From /usr/local/lib/python3.6/dist-packages/tensorflow_core/python/ops/distributions/normal.py:160: Distribution.__init__ (from tensorflow.python.ops.distributions.distribution) is deprecated and will be removed after 2019-01-01.\n",
            "Instructions for updating:\n",
            "The TensorFlow Distributions library has moved to TensorFlow Probability (https://github.com/tensorflow/probability). You should update all references to use `tfp.distributions` instead of `tf.distributions`.\n",
            "WARNING:tensorflow:From /usr/local/lib/python3.6/dist-packages/tensorflow_core/python/ops/math_grad.py:1424: where (from tensorflow.python.ops.array_ops) is deprecated and will be removed in a future version.\n",
            "Instructions for updating:\n",
            "Use tf.where in 2.0, which has the same broadcast rule as np.where\n",
            "WARNING:tensorflow:From /usr/local/lib/python3.6/dist-packages/tensorflow_core/python/ops/math_grad.py:1424: where (from tensorflow.python.ops.array_ops) is deprecated and will be removed in a future version.\n",
            "Instructions for updating:\n",
            "Use tf.where in 2.0, which has the same broadcast rule as np.where\n",
            "WARNING:tensorflow:From /usr/local/lib/python3.6/dist-packages/tensorflow_core/python/ops/math_grad.py:1424: where (from tensorflow.python.ops.array_ops) is deprecated and will be removed in a future version.\n",
            "Instructions for updating:\n",
            "Use tf.where in 2.0, which has the same broadcast rule as np.where\n",
            "WARNING:tensorflow:From /usr/local/lib/python3.6/dist-packages/tensorflow_core/python/ops/math_grad.py:1424: where (from tensorflow.python.ops.array_ops) is deprecated and will be removed in a future version.\n",
            "Instructions for updating:\n",
            "Use tf.where in 2.0, which has the same broadcast rule as np.whereWARNING:tensorflow:From /usr/local/lib/python3.6/dist-packages/tensorflow_core/python/ops/math_grad.py:1424: where (from tensorflow.python.ops.array_ops) is deprecated and will be removed in a future version.\n",
            "Instructions for updating:\n",
            "Use tf.where in 2.0, which has the same broadcast rule as np.where\n",
            "\n",
            "Worker 2: waiting for cluster connection...\n",
            "Worker 1: waiting for cluster connection...\n",
            "Worker 0: waiting for cluster connection...\n",
            "Parameter server: waiting for cluster connection...\n",
            "Worker 3: waiting for cluster connection...\n",
            "Worker 2: cluster ready!\n",
            "Worker 0: cluster ready!\n",
            "Worker 1: cluster ready!\n",
            "Worker 3: cluster ready!\n",
            "Parameter server: cluster ready!\n",
            "Parameter server: initializing variables...\n",
            "Worker 2: waiting for variable initialization...\n",
            "Worker 1: waiting for variable initialization...\n",
            "Parameter server: variables initialized\n",
            "Worker 3: variables initialized\n",
            "Worker 0: variables initialized\n"
          ],
          "name": "stdout"
        },
        {
          "output_type": "stream",
          "text": [
            "/usr/local/lib/python3.6/dist-packages/gym/logger.py:30: UserWarning: \u001b[33mWARN: Box bound precision lowered by casting to float32\u001b[0m\n",
            "  warnings.warn(colorize('%s: %s'%('WARN', msg % args), 'yellow'))\n",
            "/usr/local/lib/python3.6/dist-packages/gym/logger.py:30: UserWarning: \u001b[33mWARN: Box bound precision lowered by casting to float32\u001b[0m\n",
            "  warnings.warn(colorize('%s: %s'%('WARN', msg % args), 'yellow'))\n"
          ],
          "name": "stderr"
        },
        {
          "output_type": "stream",
          "text": [
            "Worker 2: variables initialized\n"
          ],
          "name": "stdout"
        },
        {
          "output_type": "stream",
          "text": [
            "/usr/local/lib/python3.6/dist-packages/gym/logger.py:30: UserWarning: \u001b[33mWARN: Box bound precision lowered by casting to float32\u001b[0m\n",
            "  warnings.warn(colorize('%s: %s'%('WARN', msg % args), 'yellow'))\n"
          ],
          "name": "stderr"
        },
        {
          "output_type": "stream",
          "text": [
            "Worker 1: variables initialized\n"
          ],
          "name": "stdout"
        },
        {
          "output_type": "stream",
          "text": [
            "/usr/local/lib/python3.6/dist-packages/gym/logger.py:30: UserWarning: \u001b[33mWARN: Box bound precision lowered by casting to float32\u001b[0m\n",
            "  warnings.warn(colorize('%s: %s'%('WARN', msg % args), 'yellow'))\n"
          ],
          "name": "stderr"
        },
        {
          "output_type": "stream",
          "text": [
            "Worker 0: created\n",
            "Worker 3: created\n",
            "Worker 2: created\n",
            "Worker 1: created\n",
            "Worker 3: w.work()\n",
            "Worker 1: w.work()\n",
            "Worker 0: w.work()\n",
            "Worker 2: w.work()\n"
          ],
          "name": "stdout"
        },
        {
          "output_type": "display_data",
          "data": {
            "image/png": "[encoded data removed]",
            "text/plain": [
              "<Figure size 432x288 with 1 Axes>"
            ]
          },
          "metadata": {
            "tags": [],
            "needs_background": "light"
          }
        },
        {
          "output_type": "stream",
          "text": [
            "Parameter server: ended...\n",
            "All done.\n",
            "--- 708.0910649299622 seconds ---\n"
          ],
          "name": "stdout"
        }
      ]
    }
  ]
}