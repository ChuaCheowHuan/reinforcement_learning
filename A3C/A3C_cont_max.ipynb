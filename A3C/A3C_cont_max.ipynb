{
  "nbformat": 4,
  "nbformat_minor": 0,
  "metadata": {
    "colab": {
      "name": "A3C_cont_max.ipynb",
      "provenance": [],
      "collapsed_sections": []
    },
    "kernelspec": {
      "name": "python3",
      "display_name": "Python 3"
    },
    "accelerator": "TPU"
  },
  "cells": [
    {
      "cell_type": "markdown",
      "metadata": {
        "id": "t4mjXmAHaSkz",
        "colab_type": "text"
      },
      "source": [
        "A3C (Asynchronous Advantage Actor Critic) implementation with Tensorflow. \n",
        "This is a multi-threaded continuous version with N step targets \n",
        "(use maximum terms possible). The code is tested with Pendulum-v0 (which has a continuous action space) on Colab."
      ]
    },
    {
      "cell_type": "markdown",
      "metadata": {
        "id": "I8KVEDVeZ_4F",
        "colab_type": "text"
      },
      "source": [
        "#Use tensorflow version 1.15.2"
      ]
    },
    {
      "cell_type": "code",
      "metadata": {
        "id": "pQ6C2JSmaFDB",
        "colab_type": "code",
        "colab": {
          "base_uri": "https://localhost:8080/",
          "height": 853
        },
        "outputId": "b3a78f5c-aff4-4993-d517-ea4f34ab1b29"
      },
      "source": [
        "!pip install tensorflow==1.15.2"
      ],
      "execution_count": 1,
      "outputs": [
        {
          "output_type": "stream",
          "text": [
            "Collecting tensorflow==1.15.2\n",
            "\u001b[?25l  Downloading https://files.pythonhosted.org/packages/9a/d9/fd234c7bf68638423fb8e7f44af7fcfce3bcaf416b51e6d902391e47ec43/tensorflow-1.15.2-cp36-cp36m-manylinux2010_x86_64.whl (110.5MB)\n",
            "\u001b[K     |████████████████████████████████| 110.5MB 47kB/s \n",
            "\u001b[?25hCollecting gast==0.2.2\n",
            "  Downloading https://files.pythonhosted.org/packages/4e/35/11749bf99b2d4e3cceb4d55ca22590b0d7c2c62b9de38ac4a4a7f4687421/gast-0.2.2.tar.gz\n",
            "Requirement already satisfied: absl-py>=0.7.0 in /usr/local/lib/python3.6/dist-packages (from tensorflow==1.15.2) (0.9.0)\n",
            "Requirement already satisfied: protobuf>=3.6.1 in /usr/local/lib/python3.6/dist-packages (from tensorflow==1.15.2) (3.10.0)\n",
            "Collecting tensorflow-estimator==1.15.1\n",
            "\u001b[?25l  Downloading https://files.pythonhosted.org/packages/de/62/2ee9cd74c9fa2fa450877847ba560b260f5d0fb70ee0595203082dafcc9d/tensorflow_estimator-1.15.1-py2.py3-none-any.whl (503kB)\n",
            "\u001b[K     |████████████████████████████████| 512kB 43.5MB/s \n",
            "\u001b[?25hCollecting tensorboard<1.16.0,>=1.15.0\n",
            "\u001b[?25l  Downloading https://files.pythonhosted.org/packages/1e/e9/d3d747a97f7188f48aa5eda486907f3b345cd409f0a0850468ba867db246/tensorboard-1.15.0-py3-none-any.whl (3.8MB)\n",
            "\u001b[K     |████████████████████████████████| 3.8MB 48.0MB/s \n",
            "\u001b[?25hRequirement already satisfied: six>=1.10.0 in /usr/local/lib/python3.6/dist-packages (from tensorflow==1.15.2) (1.12.0)\n",
            "Requirement already satisfied: keras-preprocessing>=1.0.5 in /usr/local/lib/python3.6/dist-packages (from tensorflow==1.15.2) (1.1.0)\n",
            "Requirement already satisfied: numpy<2.0,>=1.16.0 in /usr/local/lib/python3.6/dist-packages (from tensorflow==1.15.2) (1.18.3)\n",
            "Requirement already satisfied: opt-einsum>=2.3.2 in /usr/local/lib/python3.6/dist-packages (from tensorflow==1.15.2) (3.2.1)\n",
            "Requirement already satisfied: grpcio>=1.8.6 in /usr/local/lib/python3.6/dist-packages (from tensorflow==1.15.2) (1.28.1)\n",
            "Requirement already satisfied: google-pasta>=0.1.6 in /usr/local/lib/python3.6/dist-packages (from tensorflow==1.15.2) (0.2.0)\n",
            "Requirement already satisfied: wheel>=0.26; python_version >= \"3\" in /usr/local/lib/python3.6/dist-packages (from tensorflow==1.15.2) (0.34.2)\n",
            "Requirement already satisfied: astor>=0.6.0 in /usr/local/lib/python3.6/dist-packages (from tensorflow==1.15.2) (0.8.1)\n",
            "Requirement already satisfied: wrapt>=1.11.1 in /usr/local/lib/python3.6/dist-packages (from tensorflow==1.15.2) (1.12.1)\n",
            "Requirement already satisfied: keras-applications>=1.0.8 in /usr/local/lib/python3.6/dist-packages (from tensorflow==1.15.2) (1.0.8)\n",
            "Requirement already satisfied: termcolor>=1.1.0 in /usr/local/lib/python3.6/dist-packages (from tensorflow==1.15.2) (1.1.0)\n",
            "Requirement already satisfied: setuptools in /usr/local/lib/python3.6/dist-packages (from protobuf>=3.6.1->tensorflow==1.15.2) (46.1.3)\n",
            "Requirement already satisfied: werkzeug>=0.11.15 in /usr/local/lib/python3.6/dist-packages (from tensorboard<1.16.0,>=1.15.0->tensorflow==1.15.2) (1.0.1)\n",
            "Requirement already satisfied: markdown>=2.6.8 in /usr/local/lib/python3.6/dist-packages (from tensorboard<1.16.0,>=1.15.0->tensorflow==1.15.2) (3.2.1)\n",
            "Requirement already satisfied: h5py in /usr/local/lib/python3.6/dist-packages (from keras-applications>=1.0.8->tensorflow==1.15.2) (2.10.0)\n",
            "Building wheels for collected packages: gast\n",
            "  Building wheel for gast (setup.py) ... \u001b[?25l\u001b[?25hdone\n",
            "  Created wheel for gast: filename=gast-0.2.2-cp36-none-any.whl size=7540 sha256=a339b9221095770664ea9a2728d8d95202766e6c0ebcaaacdd07eff43fa6cdd5\n",
            "  Stored in directory: /root/.cache/pip/wheels/5c/2e/7e/a1d4d4fcebe6c381f378ce7743a3ced3699feb89bcfbdadadd\n",
            "Successfully built gast\n",
            "\u001b[31mERROR: tensorflow-probability 0.10.0rc0 has requirement gast>=0.3.2, but you'll have gast 0.2.2 which is incompatible.\u001b[0m\n",
            "Installing collected packages: gast, tensorflow-estimator, tensorboard, tensorflow\n",
            "  Found existing installation: gast 0.3.3\n",
            "    Uninstalling gast-0.3.3:\n",
            "      Successfully uninstalled gast-0.3.3\n",
            "  Found existing installation: tensorflow-estimator 2.2.0\n",
            "    Uninstalling tensorflow-estimator-2.2.0:\n",
            "      Successfully uninstalled tensorflow-estimator-2.2.0\n",
            "  Found existing installation: tensorboard 2.2.1\n",
            "    Uninstalling tensorboard-2.2.1:\n",
            "      Successfully uninstalled tensorboard-2.2.1\n",
            "  Found existing installation: tensorflow 2.2.0rc3\n",
            "    Uninstalling tensorflow-2.2.0rc3:\n",
            "      Successfully uninstalled tensorflow-2.2.0rc3\n",
            "Successfully installed gast-0.2.2 tensorboard-1.15.0 tensorflow-1.15.2 tensorflow-estimator-1.15.1\n"
          ],
          "name": "stdout"
        }
      ]
    },
    {
      "cell_type": "markdown",
      "metadata": {
        "id": "DInzxlOaaJop",
        "colab_type": "text"
      },
      "source": [
        "#Imports"
      ]
    },
    {
      "cell_type": "code",
      "metadata": {
        "id": "pS6gETFFaLiS",
        "colab_type": "code",
        "colab": {}
      },
      "source": [
        "import threading\n",
        "import multiprocessing\n",
        "import time\n",
        "\n",
        "import numpy as np\n",
        "import matplotlib.pyplot as plt\n",
        "\n",
        "import gym\n",
        "import tensorflow as tf"
      ],
      "execution_count": 0,
      "outputs": []
    },
    {
      "cell_type": "markdown",
      "metadata": {
        "id": "RlDDi2-zaZzU",
        "colab_type": "text"
      },
      "source": [
        "#Global variables & hyperparameters"
      ]
    },
    {
      "cell_type": "code",
      "metadata": {
        "id": "PeETsRRIaYUk",
        "colab_type": "code",
        "colab": {
          "base_uri": "https://localhost:8080/",
          "height": 51
        },
        "outputId": "954bbfea-98b6-4b58-a6bd-df0362ee1f2e"
      },
      "source": [
        "game = 'Pendulum-v0'\n",
        "#game = 'MountainCarContinuous-v0'\n",
        "env = gym.make(game).unwrapped\n",
        "\n",
        "num_obvs = env.observation_space.shape[0]\n",
        "num_actions = env.action_space.shape[0]\n",
        "action_bound = [env.action_space.low, env.action_space.high]\n",
        "\n",
        "net_scope = 'global'\n",
        "max_episode = 2000 # total samples collected # 80e6\n",
        "max_episode_step = 200 # steps per episode\n",
        "update_rate = 10 # t steps, nets synced rate\n",
        "#delay_rate = 50 #4000 # t steps, local gradients storage reset rate\n",
        "\n",
        "#!cat /proc/cpuinfo\n",
        "#print(\"CPU:\", multiprocessing.cpu_count())\n",
        "#num_workers = multiprocessing.cpu_count() \n",
        "num_workers = 4 #16\n",
        "\n",
        "GAMMA = 0.9 #0.99\n",
        "ENTROPY_BETA = 0.01 #0.01\n",
        "actor_alpha = 0.0001 #7e-4\n",
        "critic_alpha = 0.001 #7e-4   \n",
        "actor_hidden = 80 #200\n",
        "critic_hidden = 50 #200\n",
        "cell_size = 64 #128\n",
        "N_step = 3 #15"
      ],
      "execution_count": 3,
      "outputs": [
        {
          "output_type": "stream",
          "text": [
            "/usr/local/lib/python3.6/dist-packages/gym/logger.py:30: UserWarning: \u001b[33mWARN: Box bound precision lowered by casting to float32\u001b[0m\n",
            "  warnings.warn(colorize('%s: %s'%('WARN', msg % args), 'yellow'))\n"
          ],
          "name": "stderr"
        }
      ]
    },
    {
      "cell_type": "markdown",
      "metadata": {
        "id": "1fRH8Ieyaf7s",
        "colab_type": "text"
      },
      "source": [
        "#Class that computes running stats"
      ]
    },
    {
      "cell_type": "code",
      "metadata": {
        "id": "3u0z1fPnanj_",
        "colab_type": "code",
        "colab": {}
      },
      "source": [
        "class RunningStats(object):\n",
        "    # https://en.wikipedia.org/wiki/Algorithms_for_calculating_variance#Parallel_algorithm\n",
        "    # https://github.com/openai/baselines/blob/master/baselines/common/running_mean_std.py\n",
        "    def __init__(self, epsilon=1e-4, shape=()):\n",
        "        self.mean = np.zeros(shape, 'float64')\n",
        "        self.var = np.ones(shape, 'float64')\n",
        "        self.std = np.ones(shape, 'float64')\n",
        "        self.count = epsilon\n",
        "\n",
        "    def update(self, x):\n",
        "        batch_mean = np.mean(x, axis=0)\n",
        "        batch_var = np.var(x, axis=0)\n",
        "        batch_count = x.shape[0]\n",
        "        self.update_from_moments(batch_mean, batch_var, batch_count)\n",
        "\n",
        "    def update_from_moments(self, batch_mean, batch_var, batch_count):\n",
        "        delta = batch_mean - self.mean\n",
        "        new_mean = self.mean + delta * batch_count / (self.count + batch_count)\n",
        "        m_a = self.var * self.count\n",
        "        m_b = batch_var * batch_count\n",
        "        M2 = m_a + m_b + np.square(delta) * self.count * batch_count / (self.count + batch_count)\n",
        "        new_var = M2 / (self.count + batch_count)\n",
        "\n",
        "        self.mean = new_mean\n",
        "        self.var = new_var\n",
        "        self.std = np.maximum(np.sqrt(self.var), 1e-6)\n",
        "        self.count = batch_count + self.count"
      ],
      "execution_count": 0,
      "outputs": []
    },
    {
      "cell_type": "markdown",
      "metadata": {
        "id": "lwXsJuW9aznP",
        "colab_type": "text"
      },
      "source": [
        "#The actor-critic tensorflow graph"
      ]
    },
    {
      "cell_type": "code",
      "metadata": {
        "id": "FmiXBukYvLDX",
        "colab_type": "code",
        "colab": {}
      },
      "source": [
        "class ACNet(object):\n",
        "    def __init__(self, scope, globalAC=None):           \n",
        "        if scope == net_scope: # global\n",
        "            with tf.variable_scope(scope):\n",
        "                self.s = tf.placeholder(tf.float32, [None, num_obvs], 'S')\n",
        "                # create global net\n",
        "                self.actor_params, self.critic_params = self._create_net(scope)[-2:] # only require params\n",
        "                \n",
        "        else: # local\n",
        "            with tf.variable_scope(scope):\n",
        "                self.s = tf.placeholder(tf.float32, [None, num_obvs], 'S')\n",
        "                self.a = tf.placeholder(tf.float32, [None, num_actions], 'A') # continous action, use float32 instead of int32\n",
        "                self.critic_target = tf.placeholder(tf.float32, [None, 1], 'critic_target')\n",
        "                self.baselined_returns = tf.placeholder(tf.float32, [None, 1], 'baselined_returns') # for calculating advantage \n",
        "                mean, sigma, self.V, self.actor_params, self.critic_params = self._create_net(scope) # create local net\n",
        "                    \n",
        "                with tf.name_scope('select_action'):\n",
        "                    #mean = mean * action_bound[1]                   \n",
        "                    mean = mean * ( action_bound[1] - action_bound[0] ) / 2\n",
        "                    sigma += 1e-4\n",
        "                    normal_dist = tf.distributions.Normal(mean, sigma)                     \n",
        "                    self.choose_a = tf.clip_by_value(tf.squeeze(normal_dist.sample(1), axis=[0, 1]), action_bound[0], action_bound[1])                  \n",
        "                    \n",
        "                TD_err = tf.subtract(self.critic_target, self.V, name='TD_err')\n",
        "                with tf.name_scope('actor_loss'):\n",
        "                    log_prob = normal_dist.log_prob(self.a)\n",
        "                    #actor_component = log_prob * tf.stop_gradient(TD_err)\n",
        "                    actor_component = log_prob * tf.stop_gradient(self.baselined_returns)\n",
        "                    entropy = -tf.reduce_mean(normal_dist.entropy()) # Compute the differential entropy of the multivariate normal.                   \n",
        "                    self.actor_loss = -tf.reduce_mean( ENTROPY_BETA * entropy + actor_component)\n",
        "                with tf.name_scope('critic_loss'):\n",
        "                    self.critic_loss = tf.reduce_mean(tf.square(TD_err))                                      \n",
        "                                        \n",
        "                with tf.name_scope('local_grad'):\n",
        "                    self.actor_grads = tf.gradients(self.actor_loss, self.actor_params)\n",
        "                    self.critic_grads = tf.gradients(self.critic_loss, self.critic_params)\n",
        "                # accumulated gradients for local actor    \n",
        "                with tf.name_scope('local_actor_grad'):                   \n",
        "                    self.actor_zero_op, self.actor_accumu_op, self.actor_apply_op, actor_accum = self.accumu_grad(OPT_A, self.actor_loss, scope=scope + '/actor')\n",
        "                # accumulated gradients for local actor    \n",
        "                with tf.name_scope('local_critic_grad'):\n",
        "                    self.critic_zero_op, self.critic_accumu_op, self.critic_apply_op, critic_accum = self.accumu_grad(OPT_C, self.critic_loss, scope=scope + '/critic')\n",
        "\n",
        "            with tf.name_scope('params'): # push/pull from local/worker perspective\n",
        "                with tf.name_scope('push_to_global'):\n",
        "                    self.push_actor_params = OPT_A.apply_gradients(zip(actor_accum, globalAC.actor_params))\n",
        "                    self.push_critic_params = OPT_C.apply_gradients(zip(critic_accum, globalAC.critic_params))\n",
        "                    #self.push_actor_params = OPT_A.apply_gradients(zip(self.actor_grads, globalAC.actor_params))\n",
        "                    #self.push_critic_params = OPT_C.apply_gradients(zip(self.critic_grads, globalAC.critic_params))\n",
        "                with tf.name_scope('pull_fr_global'):\n",
        "                    self.pull_actor_params = [local_params.assign(global_params) for local_params, global_params in zip(self.actor_params, globalAC.actor_params)]\n",
        "                    self.pull_critic_params = [local_params.assign(global_params) for local_params, global_params in zip(self.critic_params, globalAC.critic_params)]                    \n",
        "\n",
        "    def _lstm(self, Inputs, cell_size):\n",
        "            s = tf.expand_dims(Inputs, axis=1, name='time_major')  # [time_step, feature] => [time_step, batch, feature]\n",
        "            lstm_cell = tf.nn.rnn_cell.LSTMCell(cell_size)\n",
        "            self.init_state = lstm_cell.zero_state(batch_size=1, dtype=tf.float32)\n",
        "            # time_major means [time_step, batch, feature] while batch major means [batch, time_step, feature]\n",
        "            outputs, self.final_state = tf.nn.dynamic_rnn(cell=lstm_cell, inputs=s, initial_state=self.init_state, time_major=True)\n",
        "            lstm_out = tf.reshape(outputs, [-1, cell_size], name='flatten_rnn_outputs')  # joined state representation          \n",
        "            return lstm_out\n",
        "        \n",
        "    def _create_net(self, scope):\n",
        "        w_init = tf.glorot_uniform_initializer()\n",
        "        #w_init = tf.random_normal_initializer(0., .1)\n",
        "        with tf.variable_scope('actor'):                        \n",
        "            hidden = tf.layers.dense(self.s, actor_hidden, tf.nn.relu6, kernel_initializer=w_init, name='hidden')            \n",
        "            #lstm_out = self._lstm(hidden, cell_size)\n",
        "            # tanh range = [-1,1]\n",
        "            mean = tf.layers.dense(hidden, num_actions, tf.nn.tanh, kernel_initializer=w_init, name='mean')\n",
        "            # softplus range = {0,inf}\n",
        "            sigma = tf.layers.dense(hidden, num_actions, tf.nn.softplus, kernel_initializer=w_init, name='sigma')\n",
        "        with tf.variable_scope('critic'):\n",
        "            hidden = tf.layers.dense(self.s, critic_hidden, tf.nn.relu6, kernel_initializer=w_init, name='hidden')\n",
        "            lstm_out = self._lstm(hidden, cell_size)\n",
        "            V = tf.layers.dense(lstm_out, 1, kernel_initializer=w_init, name='V')  \n",
        "        actor_params = tf.get_collection(tf.GraphKeys.TRAINABLE_VARIABLES, scope=scope + '/actor')\n",
        "        critic_params = tf.get_collection(tf.GraphKeys.TRAINABLE_VARIABLES, scope=scope + '/critic')\n",
        "        return mean, sigma, V, actor_params, critic_params\n",
        "      \n",
        "    def accumu_grad(self, OPT, loss, scope):\n",
        "        # retrieve trainable variables in scope of graph\n",
        "        #tvs = tf.trainable_variables(scope=scope + '/actor')\n",
        "        tvs = tf.trainable_variables(scope=scope)\n",
        "        # ceate a list of variables with the same shape as the trainable\n",
        "        accumu = [tf.Variable(tf.zeros_like(tv.initialized_value()), trainable=False) for tv in tvs]\n",
        "        zero_op = [tv.assign(tf.zeros_like(tv)) for tv in accumu] # initialized with 0s\n",
        "        gvs = OPT.compute_gradients(loss, tvs) # obtain list of gradients & variables\n",
        "        #gvs = [(tf.where( tf.is_nan(grad), tf.zeros_like(grad), grad ), var) for grad, var in gvs_]\n",
        "        # adds to each element from the list you initialized earlier with zeros its gradient \n",
        "        # accumu and gvs are in same shape, index 0 is grads, index 1 is vars\n",
        "        accumu_op = [accumu[i].assign_add(gv[0]) for i, gv in enumerate(gvs)]\n",
        "        # apply grads\n",
        "        apply_op = OPT.apply_gradients([(accumu[i], gv[1]) for i, gv in enumerate(gvs)])\n",
        "        return zero_op, accumu_op, apply_op, accumu\n",
        "\n",
        "    def push_global_actor(self, feed_dict):  \n",
        "        SESS.run([self.push_actor_params], feed_dict)  \n",
        "\n",
        "    def push_global_critic(self, feed_dict):  \n",
        "        SESS.run([self.push_critic_params], feed_dict)         \n",
        "        \n",
        "    def pull_global(self):  \n",
        "        SESS.run([self.pull_actor_params, self.pull_critic_params])\n",
        "\n",
        "    def choose_action(self, s):  # run by a local\n",
        "        s = s[None, :]\n",
        "        return SESS.run(self.choose_a, {self.s: s})\n",
        "    \n",
        "    def init_grad_storage_actor(self):\n",
        "        SESS.run(self.actor_zero_op)\n",
        "        \n",
        "    def accumu_grad_actor(self, feed_dict):\n",
        "        SESS.run([self.actor_accumu_op], feed_dict)          \n",
        "    \n",
        "    def apply_accumu_grad_actor(self, feed_dict):\n",
        "        SESS.run([self.actor_apply_op], feed_dict)   \n",
        "        \n",
        "    def init_grad_storage_critic(self):\n",
        "        SESS.run(self.critic_zero_op)\n",
        "        \n",
        "    def accumu_grad_critic(self, feed_dict):\n",
        "        SESS.run([self.critic_accumu_op], feed_dict)          \n",
        "    \n",
        "    def apply_accumu_grad_critic(self, feed_dict):\n",
        "        SESS.run([self.critic_apply_op], feed_dict)"
      ],
      "execution_count": 0,
      "outputs": []
    },
    {
      "cell_type": "markdown",
      "metadata": {
        "id": "sMpIgfzWbLpa",
        "colab_type": "text"
      },
      "source": [
        "#Worker class"
      ]
    },
    {
      "cell_type": "code",
      "metadata": {
        "id": "TN885_1ua6re",
        "colab_type": "code",
        "colab": {}
      },
      "source": [
        "class Worker(object): # local only\n",
        "    def __init__(self, name, globalAC):\n",
        "        self.env = gym.make(game).unwrapped\n",
        "        self.name = name\n",
        "        self.AC = ACNet(name, globalAC)\n",
        "        \n",
        "    def work(self):\n",
        "        global GLOBAL_RUNNING_R, GLOBAL_EP, running_stats\n",
        "        t = 1 # local t, init only once\n",
        "        buffer_s, buffer_a, buffer_r = [], [], []\n",
        "        \n",
        "        while not COORD.should_stop() and GLOBAL_EP < max_episode:\n",
        "            s = self.env.reset() # get start state\n",
        "            ep_r = 0 # reward per episode\n",
        "            for ep_t in range(max_episode_step):\n",
        "                a = self.AC.choose_action(s)                \n",
        "                s_, r, done, info = self.env.step(a)                                \n",
        "                ep_r += r\n",
        "                buffer_s.append(s)\n",
        "                buffer_a.append(a)\n",
        "                \n",
        "                buffer_r.append(r) \n",
        "                \n",
        "                #if done == False:\n",
        "                done = True if ep_t == max_episode_step - 1 else False\n",
        "                \n",
        "                if done or t % update_rate == 0:                            \n",
        "                    # R for computing discounted reward\n",
        "                    if done:\n",
        "                        R = 0   \n",
        "                    else:\n",
        "                        R = SESS.run(self.AC.V, {self.AC.s: s_[None, :]})[0, 0] # takes in just one s, not a batch.\n",
        "                        \n",
        "                    #running_stats.update(np.array(buffer_r))\n",
        "                    #buffer_r = np.clip(np.array(buffer_r) / running_stats.std, -10, 10)\n",
        "                    \n",
        "                    critic_target = self.discount_rewards(buffer_r, GAMMA, R)            \n",
        "                                        \n",
        "                    buffer_s, buffer_a, critic_target = np.vstack(buffer_s), np.array(buffer_a), np.vstack(critic_target)\n",
        "                    feed_dict = {self.AC.s: buffer_s, self.AC.critic_target: critic_target}  \n",
        "                    self.AC.accumu_grad_critic(feed_dict) # accumulating gradients for local critic   \n",
        "                    self.AC.apply_accumu_grad_critic(feed_dict) # apply gradients to local critic\n",
        "                    \n",
        "                    baseline = SESS.run(self.AC.V, {self.AC.s: buffer_s}) # value function                        \n",
        "                    epr = np.vstack(buffer_r).astype(np.float32)\n",
        "                    # Q values\n",
        "                    n_step_targets = self.n_step_targets_max(epr, baseline, R, GAMMA, N_step)\n",
        "                    # advantage\n",
        "                    baselined_returns = n_step_targets - baseline\n",
        "\n",
        "                    #feed_dict = {self.AC.s: buffer_s, self.AC.a: buffer_a, self.AC.critic_target: critic_target}\n",
        "                    feed_dict = {self.AC.s: buffer_s, self.AC.a: buffer_a, self.AC.critic_target: critic_target, self.AC.baselined_returns: baselined_returns}\n",
        "                    self.AC.accumu_grad_actor(feed_dict) # accumulating gradients for local actor        \n",
        "                    \n",
        "                    # update to global\n",
        "                    self.AC.push_global_actor(feed_dict)                \n",
        "                    self.AC.push_global_critic(feed_dict)   \n",
        "                    self.AC.pull_global() # sync\n",
        "                    buffer_s, buffer_a, buffer_r = [], [], []\n",
        "\n",
        "                    self.AC.init_grad_storage_actor()   \n",
        "                    self.AC.init_grad_storage_critic()      \n",
        "                    \n",
        "                    #if t % delay_rate == 0: # delay clearing of local gradients storage to reduce noise\n",
        "                        # update to global\n",
        "                        #self.AC.push_global_actor(feed_dict)                \n",
        "                        #self.AC.push_global_critic(feed_dict)   \n",
        "                        #self.AC.pull_global() # sync\n",
        "                        # reinitialize storage for accumulated gradients.\n",
        "                        #self.AC.init_grad_storage_actor()   \n",
        "                        #self.AC.init_grad_storage_critic()      \n",
        "                s = s_\n",
        "                t += 1  \n",
        "                if done:\n",
        "                    if len(GLOBAL_RUNNING_R) == 0:  # record running episode reward\n",
        "                        GLOBAL_RUNNING_R.append(ep_r)\n",
        "                    else:\n",
        "                        GLOBAL_RUNNING_R.append(0.9 * GLOBAL_RUNNING_R[-1] + 0.1 * ep_r)\n",
        "                    GLOBAL_EP += 1\n",
        "                    break                                                        \n",
        "    \n",
        "    def discount_rewards(self, r, gamma, running_add):\n",
        "      \"\"\"Take 1D float array of rewards and compute discounted reward \"\"\"\n",
        "      discounted_r = np.zeros_like(r)\n",
        "      #running_add = 0\n",
        "      for t in reversed(range(len(r))):\n",
        "        running_add = running_add * gamma + r[t]\n",
        "        discounted_r[t] = running_add\n",
        "      return discounted_r    \n",
        "    \n",
        "    # As n increase, variance increase.\n",
        "    # Create a function that returns an array of n-step targets, one for each timestep:\n",
        "    # target[t] = r_t + \\gamma r_{t+1} + \\gamma^2 r_{t+2} + ... + \\gamma^n V(s_{t+n})\n",
        "    # Where r_t is given by episode reward (epr) and V(s_n) is given by the baselines.    \n",
        "    def n_step_targets_max(self, epr, baselines, v_s_, gamma, N):\n",
        "      targets = np.zeros_like(epr)    \n",
        "      if N > epr.size:\n",
        "        N = epr.size\n",
        "      for t in range(epr.size):    \n",
        "        for n in range(N):\n",
        "          if t+n == epr.size:\n",
        "            targets[t] += (gamma**n) * v_s_  # use max steps available\n",
        "            break\n",
        "          if n == N-1: # last term\n",
        "            targets[t] += (gamma**n) * baselines[t+n]\n",
        "          else:\n",
        "            targets[t] += (gamma**n) * epr[t+n] \n",
        "      return targets  "
      ],
      "execution_count": 0,
      "outputs": []
    },
    {
      "cell_type": "markdown",
      "metadata": {
        "id": "yeIwPmRlbRN6",
        "colab_type": "text"
      },
      "source": [
        "#Rollout & train"
      ]
    },
    {
      "cell_type": "code",
      "metadata": {
        "id": "FUF5ozO3bETB",
        "colab_type": "code",
        "colab": {
          "base_uri": "https://localhost:8080/",
          "height": 962
        },
        "outputId": "5a5125fb-fbca-4a2c-f5db-830438a2e037"
      },
      "source": [
        "start_time = time.time()\n",
        "    \n",
        "SESS = tf.Session()   \n",
        "with tf.device(\"/cpu:0\"):\n",
        "    OPT_A = tf.train.RMSPropOptimizer(actor_alpha, name='OPT_A')\n",
        "    OPT_C = tf.train.RMSPropOptimizer(critic_alpha, name='OPT_C')\n",
        "    GLOBAL_AC = ACNet(net_scope, globalAC=None) # only need its params\n",
        "    workers = []\n",
        "    for i in range(num_workers): # Create worker\n",
        "        i_name = 'W_%i' % i # worker name\n",
        "        workers.append(Worker(i_name, GLOBAL_AC))  \n",
        "        \n",
        "    GLOBAL_RUNNING_R = [] # for display\n",
        "    GLOBAL_EP = 0 # total number of steps of all episodes\n",
        "    running_stats = RunningStats()\n",
        "      \n",
        "    COORD = tf.train.Coordinator()\n",
        "    SESS.run(tf.global_variables_initializer())\n",
        "            \n",
        "    worker_threads = []\n",
        "    for worker in workers:\n",
        "        job = lambda: worker.work()\n",
        "        t = threading.Thread(target=job)\n",
        "        t.start()\n",
        "        worker_threads.append(t)\n",
        "    COORD.join(worker_threads)\n",
        "    \n",
        "    # display\n",
        "    plt.plot(np.arange(len(GLOBAL_RUNNING_R)), GLOBAL_RUNNING_R)\n",
        "    plt.xlabel('episode')\n",
        "    plt.ylabel('reward')\n",
        "    plt.show()    \n",
        "    \n",
        "print(\"--- %s seconds ---\" % (time.time() - start_time))    "
      ],
      "execution_count": 7,
      "outputs": [
        {
          "output_type": "stream",
          "text": [
            "WARNING:tensorflow:From <ipython-input-5-339ff6cf60bb>:67: dense (from tensorflow.python.layers.core) is deprecated and will be removed in a future version.\n",
            "Instructions for updating:\n",
            "Use keras.layers.Dense instead.\n",
            "WARNING:tensorflow:From /usr/local/lib/python3.6/dist-packages/tensorflow_core/python/layers/core.py:187: Layer.apply (from tensorflow.python.keras.engine.base_layer) is deprecated and will be removed in a future version.\n",
            "Instructions for updating:\n",
            "Please use `layer.__call__` method instead.\n",
            "WARNING:tensorflow:From <ipython-input-5-339ff6cf60bb>:56: LSTMCell.__init__ (from tensorflow.python.ops.rnn_cell_impl) is deprecated and will be removed in a future version.\n",
            "Instructions for updating:\n",
            "This class is equivalent as tf.keras.layers.LSTMCell, and will be replaced by that in Tensorflow 2.0.\n",
            "WARNING:tensorflow:From <ipython-input-5-339ff6cf60bb>:59: dynamic_rnn (from tensorflow.python.ops.rnn) is deprecated and will be removed in a future version.\n",
            "Instructions for updating:\n",
            "Please use `keras.layers.RNN(cell)`, which is equivalent to this API\n",
            "WARNING:tensorflow:From /usr/local/lib/python3.6/dist-packages/tensorflow_core/python/ops/rnn_cell_impl.py:958: Layer.add_variable (from tensorflow.python.keras.engine.base_layer) is deprecated and will be removed in a future version.\n",
            "Instructions for updating:\n",
            "Please use `layer.add_weight` method instead.\n",
            "WARNING:tensorflow:From /usr/local/lib/python3.6/dist-packages/tensorflow_core/python/ops/rnn_cell_impl.py:962: calling Zeros.__init__ (from tensorflow.python.ops.init_ops) with dtype is deprecated and will be removed in a future version.\n",
            "Instructions for updating:\n",
            "Call initializer instance with the dtype argument instead of passing it to the constructor\n",
            "WARNING:tensorflow:From <ipython-input-5-339ff6cf60bb>:21: Normal.__init__ (from tensorflow.python.ops.distributions.normal) is deprecated and will be removed after 2019-01-01.\n",
            "Instructions for updating:\n",
            "The TensorFlow Distributions library has moved to TensorFlow Probability (https://github.com/tensorflow/probability). You should update all references to use `tfp.distributions` instead of `tf.distributions`.\n",
            "WARNING:tensorflow:From /usr/local/lib/python3.6/dist-packages/tensorflow_core/python/ops/distributions/normal.py:160: Distribution.__init__ (from tensorflow.python.ops.distributions.distribution) is deprecated and will be removed after 2019-01-01.\n",
            "Instructions for updating:\n",
            "The TensorFlow Distributions library has moved to TensorFlow Probability (https://github.com/tensorflow/probability). You should update all references to use `tfp.distributions` instead of `tf.distributions`.\n"
          ],
          "name": "stdout"
        },
        {
          "output_type": "stream",
          "text": [
            "/usr/local/lib/python3.6/dist-packages/gym/logger.py:30: UserWarning: \u001b[33mWARN: Box bound precision lowered by casting to float32\u001b[0m\n",
            "  warnings.warn(colorize('%s: %s'%('WARN', msg % args), 'yellow'))\n"
          ],
          "name": "stderr"
        },
        {
          "output_type": "stream",
          "text": [
            "WARNING:tensorflow:From <ipython-input-5-339ff6cf60bb>:86: Variable.initialized_value (from tensorflow.python.ops.variables) is deprecated and will be removed in a future version.\n",
            "Instructions for updating:\n",
            "Use Variable.read_value. Variables in 2.X are initialized automatically both in eager and graph (inside tf.defun) contexts.\n",
            "WARNING:tensorflow:From /usr/local/lib/python3.6/dist-packages/tensorflow_core/python/training/rmsprop.py:119: calling Ones.__init__ (from tensorflow.python.ops.init_ops) with dtype is deprecated and will be removed in a future version.\n",
            "Instructions for updating:\n",
            "Call initializer instance with the dtype argument instead of passing it to the constructor\n"
          ],
          "name": "stdout"
        },
        {
          "output_type": "stream",
          "text": [
            "/usr/local/lib/python3.6/dist-packages/gym/logger.py:30: UserWarning: \u001b[33mWARN: Box bound precision lowered by casting to float32\u001b[0m\n",
            "  warnings.warn(colorize('%s: %s'%('WARN', msg % args), 'yellow'))\n",
            "/usr/local/lib/python3.6/dist-packages/gym/logger.py:30: UserWarning: \u001b[33mWARN: Box bound precision lowered by casting to float32\u001b[0m\n",
            "  warnings.warn(colorize('%s: %s'%('WARN', msg % args), 'yellow'))\n",
            "/usr/local/lib/python3.6/dist-packages/gym/logger.py:30: UserWarning: \u001b[33mWARN: Box bound precision lowered by casting to float32\u001b[0m\n",
            "  warnings.warn(colorize('%s: %s'%('WARN', msg % args), 'yellow'))\n"
          ],
          "name": "stderr"
        },
        {
          "output_type": "display_data",
          "data": {
            "image/png": "[encoded data removed]",
            "text/plain": [
              "<Figure size 432x288 with 1 Axes>"
            ]
          },
          "metadata": {
            "tags": [],
            "needs_background": "light"
          }
        },
        {
          "output_type": "stream",
          "text": [
            "--- 546.5065996646881 seconds ---\n"
          ],
          "name": "stdout"
        }
      ]
    }
  ]
}