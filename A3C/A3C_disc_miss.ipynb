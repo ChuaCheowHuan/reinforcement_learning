{
  "nbformat": 4,
  "nbformat_minor": 0,
  "metadata": {
    "colab": {
      "name": "A3C_disc_miss.ipynb",
      "provenance": [],
      "collapsed_sections": []
    },
    "kernelspec": {
      "name": "python3",
      "display_name": "Python 3"
    },
    "accelerator": "TPU"
  },
  "cells": [
    {
      "cell_type": "markdown",
      "metadata": {
        "id": "pTlgxT6ey1Lq",
        "colab_type": "text"
      },
      "source": [
        "A3C (Asynchronous Advantage Actor Critic) implementation with Tensorflow \n",
        "with N step targets (missing terms are treated as 0). This is a multi-threaded \n",
        "discrete version. The code is tested with Gym’s discrete action space \n",
        "environment, CartPole-v0 on Colab."
      ]
    },
    {
      "cell_type": "markdown",
      "metadata": {
        "id": "iIPWG0LEy2Fm",
        "colab_type": "text"
      },
      "source": [
        "#Use tensorflow version 1.15.2"
      ]
    },
    {
      "cell_type": "code",
      "metadata": {
        "id": "XKOH2Anuy5b2",
        "colab_type": "code",
        "colab": {
          "base_uri": "https://localhost:8080/",
          "height": 374
        },
        "outputId": "fc703188-500d-44bf-d710-1a25ca4eed3a"
      },
      "source": [
        "!pip install tensorflow==1.15.2"
      ],
      "execution_count": 1,
      "outputs": [
        {
          "output_type": "stream",
          "text": [
            "Requirement already satisfied: tensorflow==1.15.2 in /usr/local/lib/python3.6/dist-packages (1.15.2)\n",
            "Requirement already satisfied: gast==0.2.2 in /usr/local/lib/python3.6/dist-packages (from tensorflow==1.15.2) (0.2.2)\n",
            "Requirement already satisfied: google-pasta>=0.1.6 in /usr/local/lib/python3.6/dist-packages (from tensorflow==1.15.2) (0.2.0)\n",
            "Requirement already satisfied: protobuf>=3.6.1 in /usr/local/lib/python3.6/dist-packages (from tensorflow==1.15.2) (3.10.0)\n",
            "Requirement already satisfied: wheel>=0.26; python_version >= \"3\" in /usr/local/lib/python3.6/dist-packages (from tensorflow==1.15.2) (0.34.2)\n",
            "Requirement already satisfied: keras-preprocessing>=1.0.5 in /usr/local/lib/python3.6/dist-packages (from tensorflow==1.15.2) (1.1.0)\n",
            "Requirement already satisfied: grpcio>=1.8.6 in /usr/local/lib/python3.6/dist-packages (from tensorflow==1.15.2) (1.28.1)\n",
            "Requirement already satisfied: absl-py>=0.7.0 in /usr/local/lib/python3.6/dist-packages (from tensorflow==1.15.2) (0.9.0)\n",
            "Requirement already satisfied: opt-einsum>=2.3.2 in /usr/local/lib/python3.6/dist-packages (from tensorflow==1.15.2) (3.2.1)\n",
            "Requirement already satisfied: tensorboard<1.16.0,>=1.15.0 in /usr/local/lib/python3.6/dist-packages (from tensorflow==1.15.2) (1.15.0)\n",
            "Requirement already satisfied: astor>=0.6.0 in /usr/local/lib/python3.6/dist-packages (from tensorflow==1.15.2) (0.8.1)\n",
            "Requirement already satisfied: wrapt>=1.11.1 in /usr/local/lib/python3.6/dist-packages (from tensorflow==1.15.2) (1.12.1)\n",
            "Requirement already satisfied: tensorflow-estimator==1.15.1 in /usr/local/lib/python3.6/dist-packages (from tensorflow==1.15.2) (1.15.1)\n",
            "Requirement already satisfied: numpy<2.0,>=1.16.0 in /usr/local/lib/python3.6/dist-packages (from tensorflow==1.15.2) (1.18.3)\n",
            "Requirement already satisfied: six>=1.10.0 in /usr/local/lib/python3.6/dist-packages (from tensorflow==1.15.2) (1.12.0)\n",
            "Requirement already satisfied: keras-applications>=1.0.8 in /usr/local/lib/python3.6/dist-packages (from tensorflow==1.15.2) (1.0.8)\n",
            "Requirement already satisfied: termcolor>=1.1.0 in /usr/local/lib/python3.6/dist-packages (from tensorflow==1.15.2) (1.1.0)\n",
            "Requirement already satisfied: setuptools in /usr/local/lib/python3.6/dist-packages (from protobuf>=3.6.1->tensorflow==1.15.2) (46.1.3)\n",
            "Requirement already satisfied: werkzeug>=0.11.15 in /usr/local/lib/python3.6/dist-packages (from tensorboard<1.16.0,>=1.15.0->tensorflow==1.15.2) (1.0.1)\n",
            "Requirement already satisfied: markdown>=2.6.8 in /usr/local/lib/python3.6/dist-packages (from tensorboard<1.16.0,>=1.15.0->tensorflow==1.15.2) (3.2.1)\n",
            "Requirement already satisfied: h5py in /usr/local/lib/python3.6/dist-packages (from keras-applications>=1.0.8->tensorflow==1.15.2) (2.10.0)\n"
          ],
          "name": "stdout"
        }
      ]
    },
    {
      "cell_type": "markdown",
      "metadata": {
        "id": "r0uYp8Pty9aH",
        "colab_type": "text"
      },
      "source": [
        "#Imports"
      ]
    },
    {
      "cell_type": "code",
      "metadata": {
        "id": "FmiXBukYvLDX",
        "colab_type": "code",
        "colab": {}
      },
      "source": [
        "import threading\n",
        "import multiprocessing\n",
        "import time\n",
        "\n",
        "import numpy as np\n",
        "import matplotlib.pyplot as plt\n",
        "\n",
        "import gym\n",
        "import tensorflow as tf"
      ],
      "execution_count": 0,
      "outputs": []
    },
    {
      "cell_type": "markdown",
      "metadata": {
        "id": "EmNQH2r0y_A_",
        "colab_type": "text"
      },
      "source": [
        "#The actor-critic tensorflow graph"
      ]
    },
    {
      "cell_type": "code",
      "metadata": {
        "id": "wQso0DMQvaZa",
        "colab_type": "code",
        "colab": {}
      },
      "source": [
        "class ACNet(object):\n",
        "    def __init__(self, scope, globalAC=None):   \n",
        "        if scope == net_scope: # global\n",
        "            with tf.variable_scope(scope):\n",
        "                self.s = tf.placeholder(tf.float32, [None, num_obvs], 'S')\n",
        "                # create global net\n",
        "                self.actor_params, self.critic_params = self._create_net(scope)[-2:] # only require params\n",
        "                \n",
        "        else: # local\n",
        "            with tf.variable_scope(scope):\n",
        "                self.s = tf.placeholder(tf.float32, [None, num_obvs], 'S')\n",
        "                self.a = tf.placeholder(tf.int32, [None, ], 'A')\n",
        "                self.critic_target = tf.placeholder(tf.float32, [None, 1], 'critic_target')\n",
        "                self.baselined_returns = tf.placeholder(tf.float32, [None, 1], 'baselined_returns') # for calculating advantage \n",
        "                # create local net\n",
        "                self.action_prob, self.V, self.actor_params, self.critic_params = self._create_net(scope)\n",
        "                    \n",
        "                TD_err = tf.subtract(self.critic_target, self.V, name='TD_err')\n",
        "                with tf.name_scope('actor_loss'):\n",
        "                    log_prob = tf.reduce_sum(tf.log(self.action_prob + 1e-5) * tf.one_hot(self.a, num_actions, dtype=tf.float32), axis=1, keep_dims=True)\n",
        "                    actor_component = log_prob * tf.stop_gradient(self.baselined_returns)\n",
        "                    # entropy for exploration\n",
        "                    entropy = -tf.reduce_sum(self.action_prob * tf.log(self.action_prob + 1e-5), axis=1, keep_dims=True)  # encourage exploration\n",
        "                    self.actor_loss = tf.reduce_mean( -(ENTROPY_BETA * entropy + actor_component) )                                        \n",
        "                with tf.name_scope('critic_loss'):\n",
        "                    self.critic_loss = tf.reduce_mean(tf.square(TD_err))                      \n",
        "                # accumulated gradients for local actor    \n",
        "                with tf.name_scope('local_actor_grad'):                   \n",
        "                    self.actor_zero_op, self.actor_accumu_op, self.actor_apply_op, actor_accum = self.accumu_grad(OPT_A, self.actor_loss, scope=scope + '/actor')\n",
        "                # accumulated gradients for local critic    \n",
        "                with tf.name_scope('local_critic_grad'):\n",
        "                    self.critic_zero_op, self.critic_accumu_op, self.critic_apply_op, critic_accum = self.accumu_grad(OPT_C, self.critic_loss, scope=scope + '/critic')\n",
        "                    \n",
        "            with tf.name_scope('params'): # push/pull from local/worker perspective\n",
        "                with tf.name_scope('push_to_global'):\n",
        "                    self.push_actor_params = OPT_A.apply_gradients(zip(actor_accum, globalAC.actor_params))\n",
        "                    self.push_critic_params = OPT_C.apply_gradients(zip(critic_accum, globalAC.critic_params))\n",
        "                with tf.name_scope('pull_fr_global'):\n",
        "                    self.pull_actor_params = [local_params.assign(global_params) for local_params, global_params in zip(self.actor_params, globalAC.actor_params)]\n",
        "                    self.pull_critic_params = [local_params.assign(global_params) for local_params, global_params in zip(self.critic_params, globalAC.critic_params)]                    \n",
        "                    \n",
        "    def _create_net(self, scope):\n",
        "        w_init = tf.glorot_uniform_initializer()\n",
        "        with tf.variable_scope('actor'):\n",
        "            hidden = tf.layers.dense(self.s, actor_hidden, tf.nn.relu6, kernel_initializer=w_init, name='hidden_a_prob')\n",
        "            action_prob = tf.layers.dense(hidden, num_actions, tf.nn.softmax, kernel_initializer=w_init, name='action_prob')        \n",
        "        with tf.variable_scope('critic'):\n",
        "            hidden = tf.layers.dense(self.s, critic_hidden, tf.nn.relu6, kernel_initializer=w_init, name='hidden_V')\n",
        "            V = tf.layers.dense(hidden, 1, kernel_initializer=w_init, name='V')         \n",
        "        actor_params = tf.get_collection(tf.GraphKeys.TRAINABLE_VARIABLES, scope=scope + '/actor')\n",
        "        critic_params = tf.get_collection(tf.GraphKeys.TRAINABLE_VARIABLES, scope=scope + '/critic')       \n",
        "        return action_prob, V, actor_params, critic_params\n",
        "\n",
        "    def accumu_grad(self, OPT, loss, scope):\n",
        "        # retrieve trainable variables in scope of graph\n",
        "        #tvs = tf.trainable_variables(scope=scope + '/actor')\n",
        "        tvs = tf.trainable_variables(scope=scope)\n",
        "        # ceate a list of variables with the same shape as the trainable\n",
        "        accumu = [tf.Variable(tf.zeros_like(tv.initialized_value()), trainable=False) for tv in tvs]\n",
        "        zero_op = [tv.assign(tf.zeros_like(tv)) for tv in accumu] # initialized with 0s\n",
        "        gvs = OPT.compute_gradients(loss, tvs) # obtain list of gradients & variables\n",
        "        #gvs = [(tf.where( tf.is_nan(grad), tf.zeros_like(grad), grad ), var) for grad, var in gvs]\n",
        "        # adds to each element from the list you initialized earlier with zeros its gradient \n",
        "        # accumu and gvs are in same shape, index 0 is grads, index 1 is vars\n",
        "        accumu_op = [accumu[i].assign_add(gv[0]) for i, gv in enumerate(gvs)]\n",
        "        apply_op = OPT.apply_gradients([(accumu[i], gv[1]) for i, gv in enumerate(gvs)]) # apply grads\n",
        "        return zero_op, accumu_op, apply_op, accumu      \n",
        "      \n",
        "    def push_global_actor(self, feed_dict):  \n",
        "        SESS.run([self.push_actor_params], feed_dict)  \n",
        "\n",
        "    def push_global_critic(self, feed_dict):  \n",
        "        SESS.run([self.push_critic_params], feed_dict)         \n",
        "        \n",
        "    def pull_global(self):  \n",
        "        SESS.run([self.pull_actor_params, self.pull_critic_params])\n",
        "\n",
        "    def choose_action(self, s):  \n",
        "        prob_weights = SESS.run(self.action_prob, feed_dict={self.s: s[None, :]})\n",
        "        action = np.random.choice(range(prob_weights.shape[1]), p=prob_weights.ravel()) \n",
        "        return action             \n",
        "        \n",
        "    def init_grad_storage_actor(self):\n",
        "        SESS.run(self.actor_zero_op)\n",
        "        \n",
        "    def accumu_grad_actor(self, feed_dict):\n",
        "        SESS.run([self.actor_accumu_op], feed_dict)          \n",
        "    \n",
        "    def apply_accumu_grad_actor(self, feed_dict):\n",
        "        SESS.run([self.actor_apply_op], feed_dict)   \n",
        "        \n",
        "    def init_grad_storage_critic(self):\n",
        "        SESS.run(self.critic_zero_op)\n",
        "        \n",
        "    def accumu_grad_critic(self, feed_dict):\n",
        "        SESS.run([self.critic_accumu_op], feed_dict)          \n",
        "    \n",
        "    def apply_accumu_grad_critic(self, feed_dict):\n",
        "        SESS.run([self.critic_apply_op], feed_dict)  "
      ],
      "execution_count": 0,
      "outputs": []
    },
    {
      "cell_type": "markdown",
      "metadata": {
        "id": "KW0X1I8XzEw5",
        "colab_type": "text"
      },
      "source": [
        "#The worker class"
      ]
    },
    {
      "cell_type": "code",
      "metadata": {
        "id": "y8n6s3a5qIvP",
        "colab_type": "code",
        "colab": {}
      },
      "source": [
        "class Worker(object): # local only\n",
        "    def __init__(self, name, globalAC):\n",
        "        self.env = gym.make(game)\n",
        "        self.name = name\n",
        "        self.AC = ACNet(name, globalAC)\n",
        "    def work(self):\n",
        "        global GLOBAL_RUNNING_R, GLOBAL_EP\n",
        "        T = 0\n",
        "        t = 0\n",
        "        while not COORD.should_stop() and GLOBAL_EP < max_global_episodes:\n",
        "            s = self.env.reset()\n",
        "            ep_r = 0 # reward per episode\n",
        "            done = False\n",
        "            buffer_s, buffer_a, buffer_r, buffer_done = [], [], [], []\n",
        "            self.AC.pull_global()\n",
        "            while not done:\n",
        "                a = self.AC.choose_action(s)\n",
        "                s_, r, done, info = self.env.step(a)\n",
        "                ep_r += r\n",
        "                buffer_s.append(s)\n",
        "                buffer_a.append(a)\n",
        "                buffer_r.append(r)\n",
        "                buffer_done.append(done)                \n",
        "                s = s_\n",
        "                t += 1\n",
        "            \n",
        "            # if statement will always be done in this case... \n",
        "            # possible future modification\n",
        "            if done:\n",
        "                V_s = 0   \n",
        "            else:\n",
        "                V_s = SESS.run(self.AC.V, {self.AC.s: s[None, :]})[0, 0] # takes in just one s, not a batch.\n",
        "            \n",
        "            # critic related\n",
        "            critic_target = self.discount_rewards(buffer_r, GAMMA, V_s)\n",
        "            \n",
        "            buffer_s, buffer_a, critic_target = np.vstack(buffer_s), np.array(buffer_a), np.vstack(critic_target)\n",
        "            feed_dict = {self.AC.s: buffer_s, self.AC.critic_target: critic_target}                         \n",
        "            self.AC.accumu_grad_critic(feed_dict) # accumulating gradients for local critic  \n",
        "            self.AC.apply_accumu_grad_critic(feed_dict) \n",
        "            \n",
        "            baseline = SESS.run(self.AC.V, {self.AC.s: buffer_s}) # Value function\n",
        "            epr = np.vstack(buffer_r).astype(np.float32)\n",
        "            n_step_targets = self.compute_n_step_targets_missing(epr, baseline, GAMMA, N_step) # Q values\n",
        "            # Advantage function\n",
        "            baselined_returns = n_step_targets - baseline\n",
        "\n",
        "            feed_dict = {self.AC.s: buffer_s, self.AC.a: buffer_a, self.AC.critic_target: critic_target, self.AC.baselined_returns: baselined_returns}            \n",
        "            self.AC.accumu_grad_actor(feed_dict) # accumulating gradients for local actor  \n",
        "            \n",
        "            # update\n",
        "            self.AC.push_global_actor(feed_dict)                \n",
        "            self.AC.push_global_critic(feed_dict)\n",
        "            buffer_s, buffer_a, buffer_r, buffer_done = [], [], [], []\n",
        "            self.AC.pull_global()\n",
        "              \n",
        "            #if T % delay_rate == 0: # delay clearing of local gradients storage to reduce noise\n",
        "                # apply to local\n",
        "                #self.AC.init_grad_storage_actor() # initialize storage for accumulated gradients.\n",
        "                #self.AC.init_grad_storage_critic() \n",
        "\n",
        "            self.AC.init_grad_storage_actor() # initialize storage for accumulated gradients.\n",
        "            self.AC.init_grad_storage_critic() \n",
        "                \n",
        "            GLOBAL_RUNNING_R.append(ep_r) # for display\n",
        "            GLOBAL_EP += 1                           \n",
        "      \n",
        "    def discount_rewards(self, r, gamma, running_add):\n",
        "      \"\"\"Take 1D float array of rewards and compute discounted reward \"\"\"\n",
        "      discounted_r = np.zeros_like(r)\n",
        "      #running_add = 0\n",
        "      for t in reversed(range(len(r))):\n",
        "          running_add = running_add * gamma + r[t]\n",
        "          discounted_r[t] = running_add\n",
        "      return discounted_r \n",
        "  \n",
        "    # As n increase, variance increase.\n",
        "    # Create a function that returns an array of n-step targets, one for each timestep:\n",
        "    # target[t] = r_t + \\gamma r_{t+1} + \\gamma^2 r_{t+2} + ... + \\gamma^n V(s_{t+n})\n",
        "    # Where r_t is given by episode reward (epr) and V(s_n) is given by the baselines.\n",
        "    def compute_n_step_targets_missing(self, epr, baselines, gamma, N):\n",
        "      targets = np.zeros_like(epr)    \n",
        "      if N > epr.size:\n",
        "        N = epr.size\n",
        "      for t in range(epr.size):    \n",
        "        for n in range(N):\n",
        "          if t+n == epr.size:            \n",
        "            break # missing terms treated as 0\n",
        "          if n == N-1: # last term\n",
        "            targets[t] += (gamma**n) * baselines[t+n]\n",
        "          else:\n",
        "            targets[t] += (gamma**n) * epr[t+n] \n",
        "      return targets   "
      ],
      "execution_count": 0,
      "outputs": []
    },
    {
      "cell_type": "markdown",
      "metadata": {
        "id": "8Qxjao52zJ74",
        "colab_type": "text"
      },
      "source": [
        "#Global variables & hyperparameters"
      ]
    },
    {
      "cell_type": "code",
      "metadata": {
        "id": "P8Y3NFAbZq1G",
        "colab_type": "code",
        "colab": {}
      },
      "source": [
        "game = 'CartPole-v0'\n",
        "#env = gym.make(game).unwrapped\n",
        "env = gym.make(game)\n",
        "\n",
        "num_obvs = env.observation_space.shape[0]\n",
        "num_actions = env.action_space.n\n",
        "\n",
        "net_scope = 'global'\n",
        "max_global_episodes = 500\n",
        "delay_rate = 4000 # T steps\n",
        "\n",
        "#num_workers = multiprocessing.cpu_count()\n",
        "num_workers = 4 #16\n",
        "\n",
        "GAMMA = 0.999 #0.99\n",
        "ENTROPY_BETA = 0.1 #0.01\n",
        "actor_alpha = 0.01   \n",
        "critic_alpha = 0.01   \n",
        "actor_hidden = 128 #200\n",
        "critic_hidden = 128 #200\n",
        "N_step = 15"
      ],
      "execution_count": 0,
      "outputs": []
    },
    {
      "cell_type": "markdown",
      "metadata": {
        "id": "xLM6mk7CzOGC",
        "colab_type": "text"
      },
      "source": [
        "#Start rollout & train"
      ]
    },
    {
      "cell_type": "code",
      "metadata": {
        "id": "HcrwcW1f01-z",
        "colab_type": "code",
        "outputId": "3260978e-f424-4d4f-9f1c-4f0d4557d45d",
        "colab": {
          "base_uri": "https://localhost:8080/",
          "height": 520
        }
      },
      "source": [
        "start_time = time.time()\n",
        "\n",
        "SESS = tf.Session()   \n",
        "with tf.device(\"/cpu:0\"):\n",
        "    OPT_A = tf.train.AdamOptimizer(actor_alpha, beta1=0.99, beta2=0.999, name='OPT_A')\n",
        "    OPT_C = tf.train.AdamOptimizer(critic_alpha, beta1=0.99, beta2=0.999, name='OPT_C')\n",
        "\n",
        "    GLOBAL_AC = ACNet(net_scope, globalAC=None) # only need its params\n",
        "    workers = []\n",
        "    for i in range(num_workers): # Create worker\n",
        "        i_name = 'W_%i' % i # worker name\n",
        "        workers.append(Worker(i_name, GLOBAL_AC))   \n",
        "        \n",
        "    GLOBAL_RUNNING_R = []\n",
        "    GLOBAL_EP = 0\n",
        "        \n",
        "    COORD = tf.train.Coordinator()\n",
        "    SESS.run(tf.global_variables_initializer())\n",
        "            \n",
        "    worker_threads = []\n",
        "    for worker in workers:\n",
        "        job = lambda: worker.work()\n",
        "        t = threading.Thread(target=job)\n",
        "        t.start()\n",
        "        worker_threads.append(t)\n",
        "    COORD.join(worker_threads)\n",
        "    \n",
        "    # display\n",
        "    plt.plot(np.arange(len(GLOBAL_RUNNING_R)), GLOBAL_RUNNING_R)\n",
        "    plt.xlabel('episode')\n",
        "    plt.ylabel('reward')\n",
        "    plt.show()   \n",
        "    \n",
        "print(\"--- %s seconds ---\" % (time.time() - start_time))    "
      ],
      "execution_count": 6,
      "outputs": [
        {
          "output_type": "stream",
          "text": [
            "WARNING:tensorflow:From <ipython-input-3-949491ba416e>:45: dense (from tensorflow.python.layers.core) is deprecated and will be removed in a future version.\n",
            "Instructions for updating:\n",
            "Use keras.layers.Dense instead.\n",
            "WARNING:tensorflow:From /usr/local/lib/python3.6/dist-packages/tensorflow_core/python/layers/core.py:187: Layer.apply (from tensorflow.python.keras.engine.base_layer) is deprecated and will be removed in a future version.\n",
            "Instructions for updating:\n",
            "Please use `layer.__call__` method instead.\n",
            "WARNING:tensorflow:From <ipython-input-3-949491ba416e>:20: calling reduce_sum_v1 (from tensorflow.python.ops.math_ops) with keep_dims is deprecated and will be removed in a future version.\n",
            "Instructions for updating:\n",
            "keep_dims is deprecated, use keepdims instead\n",
            "WARNING:tensorflow:From <ipython-input-3-949491ba416e>:59: Variable.initialized_value (from tensorflow.python.ops.variables) is deprecated and will be removed in a future version.\n",
            "Instructions for updating:\n",
            "Use Variable.read_value. Variables in 2.X are initialized automatically both in eager and graph (inside tf.defun) contexts.\n"
          ],
          "name": "stdout"
        },
        {
          "output_type": "display_data",
          "data": {
            "image/png": "[encoded data removed]",
            "text/plain": [
              "<Figure size 432x288 with 1 Axes>"
            ]
          },
          "metadata": {
            "tags": [],
            "needs_background": "light"
          }
        },
        {
          "output_type": "stream",
          "text": [
            "--- 59.22457957267761 seconds ---\n"
          ],
          "name": "stdout"
        }
      ]
    }
  ]
}