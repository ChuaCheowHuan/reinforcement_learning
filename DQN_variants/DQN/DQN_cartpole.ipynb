{
  "nbformat": 4,
  "nbformat_minor": 0,
  "metadata": {
    "colab": {
      "name": "DQN_cartpole.ipynb",
      "provenance": [],
      "collapsed_sections": []
    },
    "kernelspec": {
      "name": "python3",
      "display_name": "Python 3"
    },
    "accelerator": "TPU"
  },
  "cells": [
    {
      "cell_type": "markdown",
      "metadata": {
        "id": "nQ7kCpLLXeBW",
        "colab_type": "text"
      },
      "source": [
        "A **Deep Q Network** implementation in tensorflow with target network & random\n",
        "experience replay. The code is tested with Gym's discrete action space\n",
        "environment, CartPole-v0 on Colab.\n",
        "\n",
        "---\n",
        "\n",
        "## Notations:\n",
        "\n",
        "Model network = $Q_{\\theta}$\n",
        "\n",
        "Model parameter = $\\theta$\n",
        "\n",
        "Model network Q value = $Q_{\\theta}$ (s, a)\n",
        "\n",
        "Target network = $Q_{\\phi}$\n",
        "\n",
        "Target parameter = $\\phi$\n",
        "\n",
        "Target network Q value = $Q_{\\phi}$ ($s^{'}$, $a^{'}$)\n",
        "\n",
        "---\n",
        "\n",
        "## Equations:\n",
        "\n",
        "TD target = r (s, a) $+$ $\\gamma$ $max_{a}$ $Q_{\\phi}$ $s^{'}$, $a^{'}$)\n",
        "\n",
        "TD  error = (TD target) $-$ (Model network Q value)\n",
        "= [r (s, a) $+$ $\\gamma$ $max_{a^{'}}$ $Q_{\\phi}$ ($s^{'}$, $a^{'}$)] $-$ $Q_{\\theta}$ (s, a)\n",
        "\n",
        "---\n",
        "\n",
        "## Key implementation details:\n",
        "\n",
        "Update target parameter $\\phi$ with model parameter $\\theta$.\n",
        "Copy $\\theta$ to $\\phi$ with *either* soft or hard parameter update.\n",
        "\n",
        "Hard parameter update:\n",
        "\n",
        "```\n",
        "with tf.variable_scope('hard_replace'):\n",
        "  self.target_replace_hard = [t.assign(m) for t, m in zip(self.target_net_params, self.model_net_params)]   \n",
        "```\n",
        "\n",
        "```\n",
        "# hard params replacement\n",
        "if self.learn_step % self.tau_step == 0:\n",
        "    self.sess.run(self.target_replace_hard)  \n",
        "self.learn_step += 1\n",
        "```\n",
        "\n",
        "Soft parameter update: polyak $\\cdot$  $\\theta$ + (1 $-$ polyak)  $\\cdot$  $\\phi$\n",
        "\n",
        "```\n",
        "with tf.variable_scope('soft_replace'):            \n",
        "  self.target_replace_soft = [t.assign(self.polyak * m + (1 - self.polyak) * t)\n",
        "                              for t, m in zip(self.target_net_params, self.model_net_params)]   \n",
        "```\n",
        "\n",
        "Stop TD target from contributing to gradient computation:\n",
        "\n",
        "```\n",
        "# exclude td_target in gradient computation\n",
        "td_target = tf.stop_gradient(td_target)\n",
        "```\n",
        "\n",
        "---\n",
        "\n",
        "## References:\n",
        "\n",
        "[Human-level control through deep reinforcement learning\n",
        "(Mnih et al., 2015)](https://storage.googleapis.com/deepmind-media/dqn/DQNNaturePaper.pdf)\n",
        "\n",
        "---\n",
        "\n",
        "<br>\n"
      ]
    },
    {
      "cell_type": "markdown",
      "metadata": {
        "id": "9Egj9qcaLKTW",
        "colab_type": "text"
      },
      "source": [
        "# Use tensorflow version 1.15.2"
      ]
    },
    {
      "cell_type": "code",
      "metadata": {
        "id": "gouZdeBrKr19",
        "colab_type": "code",
        "outputId": "8b5818b6-0639-44c1-f6a0-cfc36a79488b",
        "colab": {
          "base_uri": "https://localhost:8080/",
          "height": 394
        }
      },
      "source": [
        "! pip install tensorflow==1.15.2"
      ],
      "execution_count": 0,
      "outputs": [
        {
          "output_type": "stream",
          "text": [
            "Requirement already satisfied: tensorflow==1.15.2 in /usr/local/lib/python3.6/dist-packages (1.15.2)\n",
            "Requirement already satisfied: google-pasta>=0.1.6 in /usr/local/lib/python3.6/dist-packages (from tensorflow==1.15.2) (0.2.0)\n",
            "Requirement already satisfied: opt-einsum>=2.3.2 in /usr/local/lib/python3.6/dist-packages (from tensorflow==1.15.2) (3.2.1)\n",
            "Requirement already satisfied: astor>=0.6.0 in /usr/local/lib/python3.6/dist-packages (from tensorflow==1.15.2) (0.8.1)\n",
            "Requirement already satisfied: numpy<2.0,>=1.16.0 in /usr/local/lib/python3.6/dist-packages (from tensorflow==1.15.2) (1.18.3)\n",
            "Requirement already satisfied: wheel>=0.26; python_version >= \"3\" in /usr/local/lib/python3.6/dist-packages (from tensorflow==1.15.2) (0.34.2)\n",
            "Requirement already satisfied: absl-py>=0.7.0 in /usr/local/lib/python3.6/dist-packages (from tensorflow==1.15.2) (0.9.0)\n",
            "Requirement already satisfied: tensorflow-estimator==1.15.1 in /usr/local/lib/python3.6/dist-packages (from tensorflow==1.15.2) (1.15.1)\n",
            "Requirement already satisfied: protobuf>=3.6.1 in /usr/local/lib/python3.6/dist-packages (from tensorflow==1.15.2) (3.10.0)\n",
            "Requirement already satisfied: keras-preprocessing>=1.0.5 in /usr/local/lib/python3.6/dist-packages (from tensorflow==1.15.2) (1.1.0)\n",
            "Requirement already satisfied: six>=1.10.0 in /usr/local/lib/python3.6/dist-packages (from tensorflow==1.15.2) (1.12.0)\n",
            "Requirement already satisfied: keras-applications>=1.0.8 in /usr/local/lib/python3.6/dist-packages (from tensorflow==1.15.2) (1.0.8)\n",
            "Requirement already satisfied: tensorboard<1.16.0,>=1.15.0 in /usr/local/lib/python3.6/dist-packages (from tensorflow==1.15.2) (1.15.0)\n",
            "Requirement already satisfied: wrapt>=1.11.1 in /usr/local/lib/python3.6/dist-packages (from tensorflow==1.15.2) (1.12.1)\n",
            "Requirement already satisfied: termcolor>=1.1.0 in /usr/local/lib/python3.6/dist-packages (from tensorflow==1.15.2) (1.1.0)\n",
            "Requirement already satisfied: grpcio>=1.8.6 in /usr/local/lib/python3.6/dist-packages (from tensorflow==1.15.2) (1.28.1)\n",
            "Requirement already satisfied: gast==0.2.2 in /usr/local/lib/python3.6/dist-packages (from tensorflow==1.15.2) (0.2.2)\n",
            "Requirement already satisfied: setuptools in /usr/local/lib/python3.6/dist-packages (from protobuf>=3.6.1->tensorflow==1.15.2) (46.1.3)\n",
            "Requirement already satisfied: h5py in /usr/local/lib/python3.6/dist-packages (from keras-applications>=1.0.8->tensorflow==1.15.2) (2.10.0)\n",
            "Requirement already satisfied: markdown>=2.6.8 in /usr/local/lib/python3.6/dist-packages (from tensorboard<1.16.0,>=1.15.0->tensorflow==1.15.2) (3.2.1)\n",
            "Requirement already satisfied: werkzeug>=0.11.15 in /usr/local/lib/python3.6/dist-packages (from tensorboard<1.16.0,>=1.15.0->tensorflow==1.15.2) (1.0.1)\n"
          ],
          "name": "stdout"
        }
      ]
    },
    {
      "cell_type": "markdown",
      "metadata": {
        "id": "KY_Wirh0JQCo",
        "colab_type": "text"
      },
      "source": [
        "#Imports"
      ]
    },
    {
      "cell_type": "code",
      "metadata": {
        "id": "3MAl64Fi3QKK",
        "colab_type": "code",
        "colab": {}
      },
      "source": [
        "import tensorflow as tf\n",
        "import gym\n",
        "import numpy as np\n",
        "from matplotlib import pyplot as plt"
      ],
      "execution_count": 0,
      "outputs": []
    },
    {
      "cell_type": "markdown",
      "metadata": {
        "id": "ydiJEGiiJTVg",
        "colab_type": "text"
      },
      "source": [
        "#Experience replay\n",
        "\n"
      ]
    },
    {
      "cell_type": "code",
      "metadata": {
        "id": "m98LF3tqEzMl",
        "colab_type": "code",
        "colab": {}
      },
      "source": [
        "# random sampling for learning from experience replay\n",
        "class Exp():\n",
        "    def __init__(self, obs_size, max_size):\n",
        "        self.obs_size = obs_size\n",
        "        self.num_obs = 0\n",
        "        self.max_size = max_size\n",
        "        self.mem_full = False\n",
        "        \n",
        "        # memory structure that stores samples from observations\n",
        "        self.mem = {'s'        : np.zeros(self.max_size * self.obs_size, dtype=np.float32).reshape(self.max_size,self.obs_size),\n",
        "                    'a'        : np.zeros(self.max_size * 1, dtype=np.int32).reshape(self.max_size,1),\n",
        "                    'r'        : np.zeros(self.max_size * 1).reshape(self.max_size,1),\n",
        "                    'done'     : np.zeros(self.max_size * 1, dtype=np.int32).reshape(self.max_size,1)}\n",
        "\n",
        "    # stores sample obervation at each time step in experience memory\n",
        "    def store(self, s, a, r, done):\n",
        "        i = self.num_obs % self.max_size\n",
        "        \n",
        "        self.mem['s'][i,:] = s\n",
        "        self.mem['a'][i,:] = a\n",
        "        self.mem['r'][i,:] = r\n",
        "        self.mem['done'][i,:] = done\n",
        "        \n",
        "        self.num_obs += 1\n",
        "        \n",
        "        if self.num_obs == self.max_size:\n",
        "            self.num_obs = 0 # reset number of observation\n",
        "            self.mem_full = True\n",
        "\n",
        "    # returns a minibatch of experience\n",
        "    def minibatch(self, minibatch_size):\n",
        "        if self.mem_full == False:\n",
        "            max_i = min(self.num_obs, self.max_size) - 1\n",
        "        else:\n",
        "            max_i = self.max_size - 1\n",
        "        \n",
        "        # randomly sample a minibatch of indexes\n",
        "        sampled_i = np.random.randint(max_i, size=minibatch_size)      \n",
        "                \n",
        "        s      = self.mem['s'][sampled_i,:].reshape(minibatch_size, self.obs_size)\n",
        "        a      = self.mem['a'][sampled_i].reshape(minibatch_size)\n",
        "        r      = self.mem['r'][sampled_i].reshape((minibatch_size,1))\n",
        "        s_next = self.mem['s'][sampled_i + 1,:].reshape(minibatch_size, self.obs_size)\n",
        "        done   = self.mem['done'][sampled_i].reshape((minibatch_size,1))\n",
        "        \n",
        "        return (s, a, r, s_next, done)"
      ],
      "execution_count": 0,
      "outputs": []
    },
    {
      "cell_type": "markdown",
      "metadata": {
        "id": "4LXZRK9ZJtoL",
        "colab_type": "text"
      },
      "source": [
        "#The agent"
      ]
    },
    {
      "cell_type": "code",
      "metadata": {
        "id": "rRZCt-FnrKLr",
        "colab_type": "code",
        "colab": {}
      },
      "source": [
        "# Evaluates behavior policy while improving target policy\n",
        "class DQN_agent():\n",
        "    def __init__(self, num_actions, obs_size, nhidden,\n",
        "                 epoch, \n",
        "                 epsilon, gamma, learning_rate, \n",
        "                 replace, polyak, tau_step,\n",
        "                 mem_size, minibatch_size):\n",
        "        super(DQN_agent, self).__init__()\n",
        "        \n",
        "        self.actions = range(num_actions)\n",
        "        self.num_actions = num_actions\n",
        "        self.obs_size = obs_size # number of features\n",
        "        self.nhidden = nhidden # hidden nodes\n",
        "        \n",
        "        self.epoch = epoch # for epsilon decay & to decide when to start training\n",
        "\n",
        "        self.epsilon = epsilon # for eploration\n",
        "        self.gamma = gamma # discount factor\n",
        "        self.learning_rate = learning_rate # learning rate alpha\n",
        "        \n",
        "        # for params replacement\n",
        "        self.replace = replace # type of replacement\n",
        "        self.polyak = polyak # for soft replacement\n",
        "        self.tau_step = tau_step # for hard replacement\n",
        "        self.learn_step = 0 # steps after learning\n",
        "        \n",
        "        # for Experience replay\n",
        "        self.mem = Exp(self.obs_size, mem_size) # memory that holds experiences\n",
        "        self.minibatch_size = minibatch_size\n",
        "        \n",
        "        self.step = 0 # each step in a episode\n",
        "                \n",
        "        # for tensorflow ops\n",
        "        self.built_graph()        \n",
        "        self.sess = tf.Session()\n",
        "        self.sess.run(tf.global_variables_initializer())\n",
        "        self.sess.run(self.target_replace_hard)\n",
        "        \n",
        "        self.cum_loss_per_episode = 0 # for charting display\n",
        "        \n",
        "    # decay epsilon after each epoch    \n",
        "    def epsilon_decay(self):\n",
        "        if self.step % self.epoch == 0:\n",
        "            self.epsilon = max(.01, self.epsilon * .95)\n",
        "            \n",
        "    # epsilon-greedy behaviour policy for action selection   \n",
        "    def act(self, state):\n",
        "        if np.random.random() < self.epsilon:\n",
        "            i = np.random.randint(0,len(self.actions))\n",
        "        else: \n",
        "            # get Q(s,a) from model network\n",
        "            Q_val = self.sess.run(self.model_Q_val, feed_dict={self.s: np.reshape(state, (1,state.shape[0]))})\n",
        "            # get index of largest Q(s,a)\n",
        "            i = np.argmax(Q_val)\n",
        "            \n",
        "        action = self.actions[i]   \n",
        "        \n",
        "        self.step += 1 \n",
        "        self.epsilon_decay()\n",
        "        \n",
        "        return action     \n",
        "    \n",
        "    def learn(self, s, a, r, done):\n",
        "        # stores observation in memory as experience at each time step \n",
        "        self.mem.store(s, a, r, done)\n",
        "        # starts training a minibatch from experience after 1st epoch\n",
        "        if self.step > self.epoch:\n",
        "            self.replay() # start training with experience replay\n",
        "      \n",
        "    def td_target(self, r, done, target_Q_val):\n",
        "        # select max Q values from target network (greedy policy)\n",
        "        max_target_Q_val = tf.reduce_max(target_Q_val, axis=1, keepdims=True)\n",
        "                \n",
        "        # if state = done, td_target = r\n",
        "        td_target = (1.0 - tf.cast(done, tf.float32)) * tf.math.multiply(self.gamma, max_target_Q_val) + r\n",
        "        \n",
        "        # exclude td_target in gradient computation\n",
        "        td_target = tf.stop_gradient(td_target)\n",
        "        \n",
        "        return td_target\n",
        "      \n",
        "    # select Q(s,a) from actions using e-greedy as behaviour policy from model network\n",
        "    def predicted_Q_val(self, a, model_Q_val):        \n",
        "        # create 1D tensor of length = number of rows in a\n",
        "        arr = tf.range(tf.shape(a)[0], dtype=tf.int32)\n",
        "        \n",
        "        # stack by column to create indices for Q(s,a) selections based on a\n",
        "        indices = tf.stack([arr, a], axis=1)\n",
        "        \n",
        "        # select Q(s,a) using indice from model_Q_val\n",
        "        Q_val = tf.gather_nd(model_Q_val, indices)\n",
        "        Q_val = tf.reshape(Q_val, (self.minibatch_size, 1))\n",
        "        \n",
        "        return Q_val\n",
        "    \n",
        "    # contruct neural network\n",
        "    def built_net(self, var_scope, w_init, b_init, features, num_hidden, num_output):              \n",
        "        with tf.variable_scope(var_scope):\n",
        "          feature_layer = tf.contrib.layers.fully_connected(features, num_hidden, \n",
        "                                                            activation_fn = tf.nn.relu,\n",
        "                                                            weights_initializer = w_init,\n",
        "                                                            biases_initializer = b_init)\n",
        "          Q_val = tf.contrib.layers.fully_connected(feature_layer, num_output, \n",
        "                                                    activation_fn = None,\n",
        "                                                    weights_initializer = w_init,\n",
        "                                                    biases_initializer = b_init)  \n",
        "        return Q_val\n",
        "        \n",
        "    # contruct tensorflow graph\n",
        "    def built_graph(self):              \n",
        "        tf.reset_default_graph()\n",
        "        \n",
        "        self.s = tf.placeholder(tf.float32, [None,self.obs_size], name='s')\n",
        "        self.a = tf.placeholder(tf.int32, [None,], name='a')\n",
        "        self.r = tf.placeholder(tf.float32, [None,1], name='r')\n",
        "        self.s_next = tf.placeholder(tf.float32, [None,self.obs_size], name='s_next')\n",
        "        self.done = tf.placeholder(tf.int32, [None,1], name='done')           \n",
        "                \n",
        "        # weight, bias initialization\n",
        "        w_init = tf.initializers.lecun_uniform()\n",
        "        b_init = tf.initializers.he_uniform(1e-4)\n",
        "          \n",
        "        self.model_Q_val = self.built_net('model_net', w_init, b_init, self.s, self.nhidden, self.num_actions)\n",
        "        self.target_Q_val = self.built_net('target_net', w_init, b_init, self.s_next, self.nhidden, self.num_actions)\n",
        "\n",
        "        with tf.variable_scope('td_target'):\n",
        "          td_target = self.td_target(self.r, self.done, self.target_Q_val)\n",
        "        with tf.variable_scope('predicted_Q_val'):\n",
        "          predicted_Q_val = self.predicted_Q_val(self.a, self.model_Q_val)\n",
        "        with tf.variable_scope('loss'):\n",
        "          self.loss = tf.losses.huber_loss(td_target, predicted_Q_val)\n",
        "        with tf.variable_scope('optimizer'):\n",
        "          self.optimizer = tf.train.GradientDescentOptimizer(self.learning_rate).minimize(self.loss)\n",
        "          \n",
        "        # get network params  \n",
        "        with tf.variable_scope('params'):\n",
        "          self.target_net_params = tf.get_collection(tf.GraphKeys.GLOBAL_VARIABLES, scope='target_net')\n",
        "          self.model_net_params = tf.get_collection(tf.GraphKeys.GLOBAL_VARIABLES, scope='model_net')  \n",
        "        \n",
        "        # replace target net params with model net params\n",
        "        with tf.variable_scope('hard_replace'):\n",
        "          self.target_replace_hard = [t.assign(m) for t, m in zip(self.target_net_params, self.model_net_params)]          \n",
        "        with tf.variable_scope('soft_replace'):            \n",
        "          self.target_replace_soft = [t.assign(self.polyak * m + (1 - self.polyak) * t) \n",
        "                                      for t, m in zip(self.target_net_params, self.model_net_params)]                \n",
        "              \n",
        "    # decide soft or hard params replacement        \n",
        "    def replace_params(self):\n",
        "        if self.replace == 'soft':\n",
        "            # soft params replacement \n",
        "            self.sess.run(self.target_replace_soft)  \n",
        "        else:\n",
        "            # hard params replacement\n",
        "            if self.learn_step % self.tau_step == 0:\n",
        "                self.sess.run(self.target_replace_hard)  \n",
        "            self.learn_step += 1\n",
        "                \n",
        "    def replay(self):             \n",
        "        # select minibatch of experiences from memory for training\n",
        "        (s, a, r, s_next, done) = self.mem.minibatch(self.minibatch_size)\n",
        "        \n",
        "        # training\n",
        "        _, loss = self.sess.run([self.optimizer, self.loss], feed_dict = {self.s: s,\n",
        "                                                                          self.a: a,\n",
        "                                                                          self.r: r,\n",
        "                                                                          self.s_next: s_next,\n",
        "                                                                          self.done: done}) \n",
        "        self.cum_loss_per_episode += loss\n",
        "        self.replace_params()        "
      ],
      "execution_count": 0,
      "outputs": []
    },
    {
      "cell_type": "markdown",
      "metadata": {
        "id": "6uUh_wrQJ0kt",
        "colab_type": "text"
      },
      "source": [
        "#Helper functions"
      ]
    },
    {
      "cell_type": "code",
      "metadata": {
        "id": "rzYSxqh71_j_",
        "colab_type": "code",
        "colab": {}
      },
      "source": [
        "# compute stats\n",
        "def stats(r_per_episode, R, cum_R, cum_R_episodes, \n",
        "          cum_loss_per_episode, cum_loss, cum_loss_episodes):\n",
        "    r_per_episode = np.append(r_per_episode, R) # store reward per episode\n",
        "    cum_R_episodes += R\n",
        "    cum_R = np.append(cum_R, cum_R_episodes) # store cumulative reward of all episodes\n",
        "\n",
        "    cum_loss_episodes += cum_loss_per_episode\n",
        "    cum_loss = np.append(cum_loss, cum_loss_episodes) # store cumulative loss of all episodes\n",
        "    \n",
        "    return (r_per_episode, cum_R_episodes, cum_R, cum_loss_episodes, cum_loss)\n",
        "\n",
        "# plot performance\n",
        "def plot_charts(values, y_label):\n",
        "  fig = plt.figure(figsize=(10,5))\n",
        "  plt.title(\"DQN performance\")\n",
        "  plt.xlabel(\"Episode\")\n",
        "  plt.ylabel(y_label)\n",
        "  plt.plot(values)\n",
        "  plt.show(fig)\n",
        "  \n",
        "def display(r_per_episode, cum_R, cum_loss):\n",
        "  plot_charts(r_per_episode, \"Reward\")\n",
        "  plot_charts(cum_R, \"cumulative_reward\")\n",
        "  plot_charts(cum_loss, \"cumulative_loss\")\n",
        "  \n",
        "  avg_r = np.sum(r_per_episode) / max_episodes\n",
        "  print(\"avg_r\", avg_r)  \n",
        "  \n",
        "  avg_loss = np.sum(cum_loss) / max_episodes\n",
        "  print(\"avg_loss\", avg_loss)  "
      ],
      "execution_count": 0,
      "outputs": []
    },
    {
      "cell_type": "markdown",
      "metadata": {
        "id": "I2RQup6LKPZ1",
        "colab_type": "text"
      },
      "source": [
        "#Rollout & learn function"
      ]
    },
    {
      "cell_type": "code",
      "metadata": {
        "id": "w2pKtkEa2EVL",
        "colab_type": "code",
        "colab": {}
      },
      "source": [
        "def run_episodes(env, agent, max_episodes):\n",
        "  r_per_episode = np.array([0])\n",
        "  cum_R = np.array([0])\n",
        "  cum_loss = np.array([0])\n",
        "  cum_R_episodes = 0\n",
        "  cum_loss_episodes = 0\n",
        "  \n",
        "  # repeat each episode\n",
        "  for episode_number in range(max_episodes):\n",
        "    s = env.reset() # reset new episode\n",
        "    done = False \n",
        "    R = 0 \n",
        "            \n",
        "    # repeat each step\n",
        "    while not done:\n",
        "      # select action using behaviour policy(epsilon-greedy) from model network\n",
        "      a = agent.act(s)\n",
        "      # take action in environment\n",
        "      next_s, r, done, _ = env.step(a)\n",
        "      # agent learns\n",
        "      agent.learn(s, a, r, done)\n",
        "      s = next_s\n",
        "      \n",
        "      R += r \n",
        "\n",
        "    (r_per_episode, cum_R_episodes, cum_R, cum_loss_episodes, cum_loss) = stats(r_per_episode, R, cum_R, cum_R_episodes, \n",
        "                                                                                agent.cum_loss_per_episode, cum_loss, cum_loss_episodes)\n",
        "          \n",
        "  display(r_per_episode, cum_R, cum_loss)\n",
        "\n",
        "  env.close()"
      ],
      "execution_count": 0,
      "outputs": []
    },
    {
      "cell_type": "markdown",
      "metadata": {
        "id": "UYbB5Xv2KJaG",
        "colab_type": "text"
      },
      "source": [
        "#Global variables"
      ]
    },
    {
      "cell_type": "code",
      "metadata": {
        "id": "PPe7wlsy3biK",
        "colab_type": "code",
        "colab": {}
      },
      "source": [
        "env = gym.make('CartPole-v0') # openai gym environment\n",
        "#env = gym.make('Pong-v0') # openai gym environment\n",
        "\n",
        "max_episodes = 500\n",
        "epoch = 100\n",
        "\n",
        "num_actions = env.action_space.n # number of possible actions\n",
        "obs_size = env.observation_space.shape[0] # dimension of state space\n",
        "nhidden = 128 # number of hidden nodes\n",
        "\n",
        "epsilon = .9\n",
        "gamma = .9\n",
        "learning_rate = .3\n",
        "\n",
        "replace = 'soft' # params replacement type, 'soft' for soft replacement or empty string '' for hard replacement\n",
        "polyak = .001 \n",
        "tau_step = 300 \n",
        "\n",
        "mem_size = 30000\n",
        "minibatch_size = 64\n",
        "\n",
        "%matplotlib inline"
      ],
      "execution_count": 0,
      "outputs": []
    },
    {
      "cell_type": "markdown",
      "metadata": {
        "id": "M_qceWXlJnFn",
        "colab_type": "text"
      },
      "source": [
        "#Train"
      ]
    },
    {
      "cell_type": "code",
      "metadata": {
        "colab_type": "code",
        "outputId": "031355f9-0053-48c2-e49e-90ce744a05e0",
        "id": "X6QVSvgi24FC",
        "colab": {
          "base_uri": "https://localhost:8080/",
          "height": 1000
        }
      },
      "source": [
        "agent = DQN_agent(num_actions, obs_size, nhidden,\n",
        "                  epoch, \n",
        "                  epsilon, gamma, learning_rate, \n",
        "                  replace, polyak, tau_step,\n",
        "                  mem_size, minibatch_size)\n",
        "run_episodes(env, agent, max_episodes)"
      ],
      "execution_count": 0,
      "outputs": [
        {
          "output_type": "stream",
          "text": [
            "WARNING:tensorflow:\n",
            "The TensorFlow contrib module will not be included in TensorFlow 2.0.\n",
            "For more information, please see:\n",
            "  * https://github.com/tensorflow/community/blob/master/rfcs/20180907-contrib-sunset.md\n",
            "  * https://github.com/tensorflow/addons\n",
            "  * https://github.com/tensorflow/io (for I/O related ops)\n",
            "If you depend on functionality not listed there, please file an issue.\n",
            "\n",
            "WARNING:tensorflow:From /usr/local/lib/python3.6/dist-packages/tensorflow_core/contrib/layers/python/layers/layers.py:1866: Layer.apply (from tensorflow.python.keras.engine.base_layer) is deprecated and will be removed in a future version.\n",
            "Instructions for updating:\n",
            "Please use `layer.__call__` method instead.\n",
            "WARNING:tensorflow:From /usr/local/lib/python3.6/dist-packages/tensorflow_core/python/ops/losses/losses_impl.py:121: where (from tensorflow.python.ops.array_ops) is deprecated and will be removed in a future version.\n",
            "Instructions for updating:\n",
            "Use tf.where in 2.0, which has the same broadcast rule as np.where\n"
          ],
          "name": "stdout"
        },
        {
          "output_type": "display_data",
          "data": {
            "image/png": "[encoded data removed]",
            "text/plain": [
              "<Figure size 720x360 with 1 Axes>"
            ]
          },
          "metadata": {
            "tags": [],
            "needs_background": "light"
          }
        },
        {
          "output_type": "display_data",
          "data": {
            "image/png": "[encoded data removed]",
            "text/plain": [
              "<Figure size 720x360 with 1 Axes>"
            ]
          },
          "metadata": {
            "tags": [],
            "needs_background": "light"
          }
        },
        {
          "output_type": "display_data",
          "data": {
            "image/png": "[encoded data removed]",
            "text/plain": [
              "<Figure size 720x360 with 1 Axes>"
            ]
          },
          "metadata": {
            "tags": [],
            "needs_background": "light"
          }
        },
        {
          "output_type": "stream",
          "text": [
            "avg_r 155.912\n",
            "avg_loss 217906.34241846294\n"
          ],
          "name": "stdout"
        }
      ]
    }
  ]
}